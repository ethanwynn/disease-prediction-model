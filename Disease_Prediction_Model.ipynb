{
  "cells": [
    {
      "cell_type": "markdown",
      "metadata": {
        "id": "ikah7bgPAtr7"
      },
      "source": [
        "# CS 439 Final Project - Disease Prediction ML Model\n"
      ]
    },
    {
      "cell_type": "code",
      "execution_count": 1,
      "metadata": {
        "colab": {
          "base_uri": "https://localhost:8080/"
        },
        "id": "QQG1w01JGWed",
        "outputId": "9f502508-09e8-4157-a7d9-ab6df7c14633"
      },
      "outputs": [
        {
          "name": "stdout",
          "output_type": "stream",
          "text": [
            "Defaulting to user installation because normal site-packages is not writeable\n",
            "Requirement already satisfied: pandas in c:\\users\\paral\\appdata\\local\\packages\\pythonsoftwarefoundation.python.3.12_qbz5n2kfra8p0\\localcache\\local-packages\\python312\\site-packages (2.2.3)\n",
            "Requirement already satisfied: requests in c:\\users\\paral\\appdata\\local\\packages\\pythonsoftwarefoundation.python.3.12_qbz5n2kfra8p0\\localcache\\local-packages\\python312\\site-packages (2.32.3)\n",
            "Requirement already satisfied: pyreadstat in c:\\users\\paral\\appdata\\local\\packages\\pythonsoftwarefoundation.python.3.12_qbz5n2kfra8p0\\localcache\\local-packages\\python312\\site-packages (1.2.8)\n",
            "Requirement already satisfied: numpy>=1.26.0 in c:\\users\\paral\\appdata\\local\\packages\\pythonsoftwarefoundation.python.3.12_qbz5n2kfra8p0\\localcache\\local-packages\\python312\\site-packages (from pandas) (2.2.2)\n",
            "Requirement already satisfied: python-dateutil>=2.8.2 in c:\\users\\paral\\appdata\\local\\packages\\pythonsoftwarefoundation.python.3.12_qbz5n2kfra8p0\\localcache\\local-packages\\python312\\site-packages (from pandas) (2.9.0.post0)\n",
            "Requirement already satisfied: pytz>=2020.1 in c:\\users\\paral\\appdata\\local\\packages\\pythonsoftwarefoundation.python.3.12_qbz5n2kfra8p0\\localcache\\local-packages\\python312\\site-packages (from pandas) (2024.2)\n",
            "Requirement already satisfied: tzdata>=2022.7 in c:\\users\\paral\\appdata\\local\\packages\\pythonsoftwarefoundation.python.3.12_qbz5n2kfra8p0\\localcache\\local-packages\\python312\\site-packages (from pandas) (2024.2)\n",
            "Requirement already satisfied: charset-normalizer<4,>=2 in c:\\users\\paral\\appdata\\local\\packages\\pythonsoftwarefoundation.python.3.12_qbz5n2kfra8p0\\localcache\\local-packages\\python312\\site-packages (from requests) (3.4.0)\n",
            "Requirement already satisfied: idna<4,>=2.5 in c:\\users\\paral\\appdata\\local\\packages\\pythonsoftwarefoundation.python.3.12_qbz5n2kfra8p0\\localcache\\local-packages\\python312\\site-packages (from requests) (3.10)\n",
            "Requirement already satisfied: urllib3<3,>=1.21.1 in c:\\users\\paral\\appdata\\local\\packages\\pythonsoftwarefoundation.python.3.12_qbz5n2kfra8p0\\localcache\\local-packages\\python312\\site-packages (from requests) (2.2.3)\n",
            "Requirement already satisfied: certifi>=2017.4.17 in c:\\users\\paral\\appdata\\local\\packages\\pythonsoftwarefoundation.python.3.12_qbz5n2kfra8p0\\localcache\\local-packages\\python312\\site-packages (from requests) (2024.8.30)\n",
            "Requirement already satisfied: six>=1.5 in c:\\users\\paral\\appdata\\local\\packages\\pythonsoftwarefoundation.python.3.12_qbz5n2kfra8p0\\localcache\\local-packages\\python312\\site-packages (from python-dateutil>=2.8.2->pandas) (1.16.0)\n"
          ]
        },
        {
          "name": "stderr",
          "output_type": "stream",
          "text": [
            "\n",
            "[notice] A new release of pip is available: 25.0.1 -> 25.1.1\n",
            "[notice] To update, run: C:\\Users\\paral\\AppData\\Local\\Microsoft\\WindowsApps\\PythonSoftwareFoundation.Python.3.12_qbz5n2kfra8p0\\python.exe -m pip install --upgrade pip\n"
          ]
        }
      ],
      "source": [
        "!pip install pandas requests pyreadstat"
      ]
    },
    {
      "cell_type": "code",
      "execution_count": 2,
      "metadata": {
        "id": "K4TCshKnEiOb"
      },
      "outputs": [],
      "source": [
        "import numpy as np\n",
        "import pandas as pd\n",
        "import pyreadstat\n",
        "import requests\n",
        "import re"
      ]
    },
    {
      "cell_type": "markdown",
      "metadata": {
        "id": "HavmzvBeBiMz"
      },
      "source": [
        "## Data Processing"
      ]
    },
    {
      "cell_type": "markdown",
      "metadata": {
        "id": "RkJULTY-CV7C"
      },
      "source": [
        "### Fetching the data"
      ]
    },
    {
      "cell_type": "markdown",
      "metadata": {
        "id": "ZmXPmzCqEas-"
      },
      "source": [
        "We are using data from NHANES (National Health and Nutrition Examination Survey). We are going to gather data that enacapsulates a wider range than traditional models, specifically data that isn't necessarily medical related."
      ]
    },
    {
      "cell_type": "markdown",
      "metadata": {
        "id": "GfvIfTUoR013"
      },
      "source": [
        "links can be found at [https://wwwn.cdc.gov/nchs/nhanes/continuousnhanes/default.aspx?Cycle=2021-2023](https://)"
      ]
    },
    {
      "cell_type": "code",
      "execution_count": 3,
      "metadata": {
        "colab": {
          "base_uri": "https://localhost:8080/"
        },
        "id": "LxEcpNF5EgTI",
        "outputId": "f1e11174-c35f-439e-c7aa-f60f3c029cd8"
      },
      "outputs": [
        {
          "name": "stdout",
          "output_type": "stream",
          "text": [
            "loaded Demographics\n",
            "loaded Medical Conditions\n",
            "loaded Diabetes\n",
            "loaded Hypertension\n",
            "loaded Prescription Meds\n",
            "loaded Plasma glucose\n",
            "loaded CBC\n",
            "loaded Body Measures\n",
            "loaded Immunization\n",
            "loaded Physical Activity\n",
            "loaded Alchohol Use\n",
            "loaded Smoking\n",
            "loaded Diet\n",
            "loaded Health Insurance\n",
            "loaded Housing\n",
            "loaded Income and Food Security\n",
            "loaded Pesticide Use\n",
            "loaded Occupational\n",
            "loaded Glycohemoglobin\n",
            "loaded Oscillometric BP\n"
          ]
        }
      ],
      "source": [
        "from typing import ByteString\n",
        "from io import BytesIO\n",
        "\n",
        "def load_xpt(url):\n",
        "  response = requests.get(url)\n",
        "  if response.status_code != 200:\n",
        "    raise Exception(f'failed to download {url}')\n",
        "  return pd.read_sas(BytesIO(response.content), format='xport')\n",
        "\n",
        "#base_url = 'https://wwwn.cdc.gov/Nchs/Nhanes/2021-2022/'\n",
        "base_url = 'https://wwwn.cdc.gov/Nchs/Data/Nhanes/Public/2021/DataFiles/'\n",
        "\n",
        "urls = {\n",
        "    'Demographics': base_url + 'DEMO_L.XPT',\n",
        "    'Medical Conditions': base_url + 'MCQ_L.XPT',\n",
        "    'Diabetes': base_url + 'DIQ_L.XPT',\n",
        "    'Hypertension': base_url + 'BPQ_L.XPT',\n",
        "    'Prescription Meds': base_url + 'RXQ_RX_L.XPT',\n",
        "    'Plasma glucose': base_url + 'GLU_L.XPT',\n",
        "    'CBC': base_url + 'CBC_L.XPT',\n",
        "    'Body Measures': base_url + 'BMX_L.XPT',\n",
        "    'Immunization': base_url + 'IMQ_L.XPT',\n",
        "    'Physical Activity': base_url + 'PAQ_L.XPT',\n",
        "    'Alchohol Use': base_url + 'ALQ_L.XPT',\n",
        "    'Smoking': base_url + 'SMQ_L.XPT',\n",
        "    'Diet': base_url + 'DBQ_L.XPT',\n",
        "    'Health Insurance': base_url + 'HIQ_L.XPT',\n",
        "    'Housing': base_url + 'HOQ_L.XPT',\n",
        "    'Income and Food Security': base_url + 'INQ_L.XPT',\n",
        "    'Pesticide Use': base_url + 'PUQMEC_L.XPT',\n",
        "    'Occupational': base_url + 'OCQ_L.XPT',\n",
        "    'Glycohemoglobin': base_url + 'GHB_L.XPT',\n",
        "    'Oscillometric BP': base_url + 'BPXO_L.XPT'\n",
        "}\n",
        "\n",
        "data = {}\n",
        "for name, url in urls.items():\n",
        "  try:\n",
        "    data[name] = load_xpt(url)\n",
        "    print(f'loaded {name}')\n",
        "  except Exception as e:\n",
        "    print(f'Failed to load {name} : {e}')\n",
        "\n",
        "df = data['Demographics'] #starting with demographics\n",
        "for key in data:\n",
        "  if key != 'Demographics':\n",
        "    df = df.merge(data[key], on='SEQN', how='left')\n",
        "\n"
      ]
    },
    {
      "cell_type": "markdown",
      "metadata": {
        "id": "jk9kQceORhOs"
      },
      "source": [
        "### Explore the Data"
      ]
    },
    {
      "cell_type": "code",
      "execution_count": 4,
      "metadata": {
        "id": "0yH0gjiQemYe"
      },
      "outputs": [],
      "source": [
        "#saving the original data to a file\n",
        "#from google.colab import files\n",
        "#df.to_csv('df.csv', index=False)\n",
        "# files.download('df.csv')"
      ]
    },
    {
      "cell_type": "code",
      "execution_count": 5,
      "metadata": {
        "colab": {
          "base_uri": "https://localhost:8080/",
          "height": 298
        },
        "id": "WxPTtrQZc--x",
        "outputId": "b4d93243-7e16-4ab3-e760-1e7b7cfcffd8"
      },
      "outputs": [
        {
          "name": "stdout",
          "output_type": "stream",
          "text": [
            "211\n",
            "{'BMIWAIST', 'DBQ940', 'ALQ270', 'INDFMMPI', 'MCQ170L', 'DBQ930', 'BMIHIP', 'DIQ160', 'LBXNRBC', 'MCQ510B', 'BMDSTATS', 'OSQ230', 'RIDSTATR', 'ALQ170', 'MCQ035', 'MCQ510E', 'HIQ032D', 'ALQ151', 'DBQ370', 'PUQ110', 'DBQ073U', 'SMQ621', 'SEQN', 'DBQ073E', 'BPXOPLS3', 'SMD100MN', 'DBD030', 'PAD790U', 'MCQ220', 'OCQ215', 'BPAOCSZ', 'LBXEOPCT', 'MCQ510F', 'DMDHSEDZ', 'WTSAF2YR', 'DID040', 'RXQ050', 'HIQ032H', 'HIQ032I', 'LBXGH', 'LBXWBCSI', 'MCQ195', 'BMXRECUM', 'DBQ935', 'BPXOSY3', 'MCQ230B', 'DMDYRUSR', 'DBQ390', 'BPXOPLS1', 'IMQ070', 'DMDHRGND', 'HIQ032C', 'DMDHREDZ', 'LBDNENO', 'LBDEONO', 'WTMEC2YR', 'SMQ040', 'PUQ100', 'HIQ210', 'PAD790Q', 'HIQ032A', 'DIQ050', 'RIAGENDR', 'LBDBANO', 'BPQ080', 'SMAQUEX2', 'HIQ032F', 'DBQ945', 'MCQ160L', 'IMQ060', 'BPXOPLS2', 'DBD055', 'HIQ032E', 'SMD650', 'MCQ510A', 'MCQ170M', 'HIQ011', 'MCQ160B', 'AGQ030', 'MCQ550', 'BMIWT', 'LBXHGB', 'RIDEXMON', 'DMDBORN4', 'MCQ010', 'MCQ040', 'MCQ160F', 'BMIHEAD', 'DBQ424', 'LBXMOPCT', 'LBXHCT', 'DBQ421', 'DBQ330', 'LBXMPSI', 'BPXODI1', 'BMXARMC', 'DBD050', 'BMXHT', 'DBQ010', 'HOD051', 'IND310', 'WTPH2YR_x', 'DBQ073A', 'MCQ160C', 'PAD680', 'DMQMILIZ', 'RIDAGEYR', 'BPQ101D', 'MCQ560', 'BMILEG', 'PAD820', 'WTPH2YR_y', 'BPXOSY1', 'LBXGLU', 'BMXWAIST', 'INDFMMPC', 'BMXHIP', 'ALQ111', 'DBQ073D', 'HIQ032B', 'BPQ150', 'MCQ160P', 'MCQ160E', 'LBXMCHSI', 'OCD150', 'RIDRETH3', 'MCQ160M', 'ALQ142', 'DBD061', 'BMXBMI', 'BPAOARM', 'SDMVSTRA', 'PAD810Q', 'DBQ073B', 'BPQ020', 'BMIARMC', 'LBXRBCSI', 'SDMVPSU', 'RIDEXPRG', 'LBXMCVSI', 'DBD041', 'DMDHRMAZ', 'RIDRETH1', 'BMIRECUM', 'OCQ383', 'DBQ073C', 'MCQ230D', 'LBXBAPCT', 'LBDGLUSI', 'DID060', 'LBDLYMNO', 'BMIARML', 'WTINT2YR', 'RIDAGEMN', 'BMXLEG', 'IMQ011', 'BMXARML', 'DBD411', 'BMDBMIC', 'MCQ230C', 'LBDMONO', 'SMQ020', 'BPXOSY2', 'DBQ360', 'BMIHT', 'PAD810U', 'DIQ010', 'BMXWT', 'SMD641', 'MCQ149', 'MCQ160D', 'DIQ180', 'DBQ400', 'MCQ230A', 'ALQ130', 'BPXODI2', 'DMDHRAGZ', 'PAD800', 'DMDMARTZ', 'MCQ500', 'RXQ033', 'LBXNEPCT', 'BMXHEAD', 'MCQ050', 'DMDHHSIZ', 'INDFMPIR', 'ALQ121', 'DIQ060U', 'OCQ180', 'LBXPLTSI', 'IMQ100', 'OCQ210', 'MCQ160A', 'ALQ280', 'DBD381', 'BPXODI3', 'DBQ301', 'MCQ053', 'LBXMC', 'INQ300', 'DIQ070', 'IMQ090', 'RIDEXAGM', 'MCQ510D', 'MCQ510C', 'BPQ030', 'LBXRDW', 'SMD630', 'DMDEDUC2', 'LBXLYPCT', 'SDDSRVYR'}\n",
            "Final merged shape: (11933, 211)\n"
          ]
        },
        {
          "data": {
            "text/html": [
              "<div>\n",
              "<style scoped>\n",
              "    .dataframe tbody tr th:only-of-type {\n",
              "        vertical-align: middle;\n",
              "    }\n",
              "\n",
              "    .dataframe tbody tr th {\n",
              "        vertical-align: top;\n",
              "    }\n",
              "\n",
              "    .dataframe thead th {\n",
              "        text-align: right;\n",
              "    }\n",
              "</style>\n",
              "<table border=\"1\" class=\"dataframe\">\n",
              "  <thead>\n",
              "    <tr style=\"text-align: right;\">\n",
              "      <th></th>\n",
              "      <th>SEQN</th>\n",
              "      <th>SDDSRVYR</th>\n",
              "      <th>RIDSTATR</th>\n",
              "      <th>RIAGENDR</th>\n",
              "      <th>RIDAGEYR</th>\n",
              "      <th>RIDAGEMN</th>\n",
              "      <th>RIDRETH1</th>\n",
              "      <th>RIDRETH3</th>\n",
              "      <th>RIDEXMON</th>\n",
              "      <th>RIDEXAGM</th>\n",
              "      <th>...</th>\n",
              "      <th>BPAOCSZ</th>\n",
              "      <th>BPXOSY1</th>\n",
              "      <th>BPXODI1</th>\n",
              "      <th>BPXOSY2</th>\n",
              "      <th>BPXODI2</th>\n",
              "      <th>BPXOSY3</th>\n",
              "      <th>BPXODI3</th>\n",
              "      <th>BPXOPLS1</th>\n",
              "      <th>BPXOPLS2</th>\n",
              "      <th>BPXOPLS3</th>\n",
              "    </tr>\n",
              "  </thead>\n",
              "  <tbody>\n",
              "    <tr>\n",
              "      <th>0</th>\n",
              "      <td>130378.0</td>\n",
              "      <td>12.0</td>\n",
              "      <td>2.0</td>\n",
              "      <td>1.0</td>\n",
              "      <td>43.0</td>\n",
              "      <td>NaN</td>\n",
              "      <td>5.0</td>\n",
              "      <td>6.0</td>\n",
              "      <td>2.0</td>\n",
              "      <td>NaN</td>\n",
              "      <td>...</td>\n",
              "      <td>4.0</td>\n",
              "      <td>135.0</td>\n",
              "      <td>98.0</td>\n",
              "      <td>131.0</td>\n",
              "      <td>96.0</td>\n",
              "      <td>132.0</td>\n",
              "      <td>94.0</td>\n",
              "      <td>82.0</td>\n",
              "      <td>79.0</td>\n",
              "      <td>82.0</td>\n",
              "    </tr>\n",
              "    <tr>\n",
              "      <th>1</th>\n",
              "      <td>130379.0</td>\n",
              "      <td>12.0</td>\n",
              "      <td>2.0</td>\n",
              "      <td>1.0</td>\n",
              "      <td>66.0</td>\n",
              "      <td>NaN</td>\n",
              "      <td>3.0</td>\n",
              "      <td>3.0</td>\n",
              "      <td>2.0</td>\n",
              "      <td>NaN</td>\n",
              "      <td>...</td>\n",
              "      <td>4.0</td>\n",
              "      <td>121.0</td>\n",
              "      <td>84.0</td>\n",
              "      <td>117.0</td>\n",
              "      <td>76.0</td>\n",
              "      <td>113.0</td>\n",
              "      <td>76.0</td>\n",
              "      <td>72.0</td>\n",
              "      <td>71.0</td>\n",
              "      <td>73.0</td>\n",
              "    </tr>\n",
              "    <tr>\n",
              "      <th>2</th>\n",
              "      <td>130380.0</td>\n",
              "      <td>12.0</td>\n",
              "      <td>2.0</td>\n",
              "      <td>2.0</td>\n",
              "      <td>44.0</td>\n",
              "      <td>NaN</td>\n",
              "      <td>2.0</td>\n",
              "      <td>2.0</td>\n",
              "      <td>1.0</td>\n",
              "      <td>NaN</td>\n",
              "      <td>...</td>\n",
              "      <td>4.0</td>\n",
              "      <td>111.0</td>\n",
              "      <td>79.0</td>\n",
              "      <td>112.0</td>\n",
              "      <td>80.0</td>\n",
              "      <td>104.0</td>\n",
              "      <td>76.0</td>\n",
              "      <td>84.0</td>\n",
              "      <td>83.0</td>\n",
              "      <td>77.0</td>\n",
              "    </tr>\n",
              "    <tr>\n",
              "      <th>3</th>\n",
              "      <td>130381.0</td>\n",
              "      <td>12.0</td>\n",
              "      <td>2.0</td>\n",
              "      <td>2.0</td>\n",
              "      <td>5.0</td>\n",
              "      <td>NaN</td>\n",
              "      <td>5.0</td>\n",
              "      <td>7.0</td>\n",
              "      <td>1.0</td>\n",
              "      <td>71.0</td>\n",
              "      <td>...</td>\n",
              "      <td>NaN</td>\n",
              "      <td>NaN</td>\n",
              "      <td>NaN</td>\n",
              "      <td>NaN</td>\n",
              "      <td>NaN</td>\n",
              "      <td>NaN</td>\n",
              "      <td>NaN</td>\n",
              "      <td>NaN</td>\n",
              "      <td>NaN</td>\n",
              "      <td>NaN</td>\n",
              "    </tr>\n",
              "    <tr>\n",
              "      <th>4</th>\n",
              "      <td>130382.0</td>\n",
              "      <td>12.0</td>\n",
              "      <td>2.0</td>\n",
              "      <td>1.0</td>\n",
              "      <td>2.0</td>\n",
              "      <td>NaN</td>\n",
              "      <td>3.0</td>\n",
              "      <td>3.0</td>\n",
              "      <td>2.0</td>\n",
              "      <td>34.0</td>\n",
              "      <td>...</td>\n",
              "      <td>NaN</td>\n",
              "      <td>NaN</td>\n",
              "      <td>NaN</td>\n",
              "      <td>NaN</td>\n",
              "      <td>NaN</td>\n",
              "      <td>NaN</td>\n",
              "      <td>NaN</td>\n",
              "      <td>NaN</td>\n",
              "      <td>NaN</td>\n",
              "      <td>NaN</td>\n",
              "    </tr>\n",
              "  </tbody>\n",
              "</table>\n",
              "<p>5 rows × 211 columns</p>\n",
              "</div>"
            ],
            "text/plain": [
              "       SEQN  SDDSRVYR  RIDSTATR  RIAGENDR  RIDAGEYR  RIDAGEMN  RIDRETH1  \\\n",
              "0  130378.0      12.0       2.0       1.0      43.0       NaN       5.0   \n",
              "1  130379.0      12.0       2.0       1.0      66.0       NaN       3.0   \n",
              "2  130380.0      12.0       2.0       2.0      44.0       NaN       2.0   \n",
              "3  130381.0      12.0       2.0       2.0       5.0       NaN       5.0   \n",
              "4  130382.0      12.0       2.0       1.0       2.0       NaN       3.0   \n",
              "\n",
              "   RIDRETH3  RIDEXMON  RIDEXAGM  ...  BPAOCSZ  BPXOSY1  BPXODI1  BPXOSY2  \\\n",
              "0       6.0       2.0       NaN  ...      4.0    135.0     98.0    131.0   \n",
              "1       3.0       2.0       NaN  ...      4.0    121.0     84.0    117.0   \n",
              "2       2.0       1.0       NaN  ...      4.0    111.0     79.0    112.0   \n",
              "3       7.0       1.0      71.0  ...      NaN      NaN      NaN      NaN   \n",
              "4       3.0       2.0      34.0  ...      NaN      NaN      NaN      NaN   \n",
              "\n",
              "   BPXODI2  BPXOSY3  BPXODI3  BPXOPLS1  BPXOPLS2  BPXOPLS3  \n",
              "0     96.0    132.0     94.0      82.0      79.0      82.0  \n",
              "1     76.0    113.0     76.0      72.0      71.0      73.0  \n",
              "2     80.0    104.0     76.0      84.0      83.0      77.0  \n",
              "3      NaN      NaN      NaN       NaN       NaN       NaN  \n",
              "4      NaN      NaN      NaN       NaN       NaN       NaN  \n",
              "\n",
              "[5 rows x 211 columns]"
            ]
          },
          "execution_count": 5,
          "metadata": {},
          "output_type": "execute_result"
        }
      ],
      "source": [
        "print(len(set(df.columns)))\n",
        "print(set(df.columns))\n",
        "print(f\"Final merged shape: {df.shape}\")\n",
        "df.head()\n"
      ]
    },
    {
      "cell_type": "markdown",
      "metadata": {
        "id": "z3Usu5CPCYoh"
      },
      "source": [
        "### Clean the data"
      ]
    },
    {
      "cell_type": "markdown",
      "metadata": {
        "id": "4VDGgH05VIYc"
      },
      "source": [
        "clean out columns with too many null values"
      ]
    },
    {
      "cell_type": "code",
      "execution_count": 6,
      "metadata": {
        "colab": {
          "base_uri": "https://localhost:8080/"
        },
        "id": "8Uu-FwWYVBih",
        "outputId": "7b586382-06e5-43e3-ea02-0b3cc73bc3e5"
      },
      "outputs": [
        {
          "name": "stdout",
          "output_type": "stream",
          "text": [
            "Remaining columns: 107\n"
          ]
        }
      ],
      "source": [
        "# threshold = more than 50% are NaNs\n",
        "threshold = 0.5\n",
        "\n",
        "missing_ratio = df.isnull().mean() # ratios of missing val\n",
        "\n",
        "columns_to_keep = missing_ratio[missing_ratio <= threshold].index\n",
        "\n",
        "df_cleaned = df[columns_to_keep]\n",
        "\n",
        "print(f\"Remaining columns: {len(df_cleaned.columns)}\")"
      ]
    },
    {
      "cell_type": "markdown",
      "metadata": {
        "id": "8HmTj6RUW7HG"
      },
      "source": [
        "drop col with non numeric values"
      ]
    },
    {
      "cell_type": "code",
      "execution_count": 7,
      "metadata": {
        "colab": {
          "base_uri": "https://localhost:8080/"
        },
        "id": "Yo9wuhvLYfLE",
        "outputId": "f4af71e2-6b33-4118-900b-47f9d732d5e4"
      },
      "outputs": [
        {
          "name": "stdout",
          "output_type": "stream",
          "text": [
            "SEQN        float64\n",
            "SDDSRVYR    float64\n",
            "RIDSTATR    float64\n",
            "RIAGENDR    float64\n",
            "RIDAGEYR    float64\n",
            "             ...   \n",
            "BPXOSY3     float64\n",
            "BPXODI3     float64\n",
            "BPXOPLS1    float64\n",
            "BPXOPLS2    float64\n",
            "BPXOPLS3    float64\n",
            "Length: 104, dtype: object\n",
            "Remaining numeric columns: 104\n"
          ]
        }
      ],
      "source": [
        "df_cleaned = df_cleaned.loc[:, df_cleaned.apply(pd.api.types.is_numeric_dtype)]\n",
        "print(df_cleaned.dtypes)\n",
        "print(f\"Remaining numeric columns: {df_cleaned.shape[1]}\")"
      ]
    },
    {
      "cell_type": "markdown",
      "metadata": {
        "id": "JmDLdE-aYqXO"
      },
      "source": [
        "drop duplicate and highly correlated col"
      ]
    },
    {
      "cell_type": "code",
      "execution_count": 8,
      "metadata": {
        "colab": {
          "base_uri": "https://localhost:8080/"
        },
        "id": "TtEsZVL6Y5DW",
        "outputId": "5c4faac5-e5c5-4466-fe78-5cd5d2d2558f"
      },
      "outputs": [
        {
          "name": "stdout",
          "output_type": "stream",
          "text": [
            "Columns after dropping duplicates: 104\n",
            "Columns after dropping high corr col: 88\n"
          ]
        }
      ],
      "source": [
        "# Convert all numeric columns to float for uniformity\n",
        "df_temp = df_cleaned.astype(float)\n",
        "\n",
        "# Drop columns with duplicate values (there's none here but just in case.)\n",
        "df_cleaned = df_cleaned.loc[:, ~df_temp.T.duplicated()]\n",
        "\n",
        "print(f\"Columns after dropping duplicates: {df_cleaned.shape[1]}\")\n",
        "\n",
        "corr_matrix = df_cleaned.corr().abs()\n",
        "upper = corr_matrix.where(np.triu(np.ones(corr_matrix.shape), k=1).astype(bool))\n",
        "to_drop = [column for column in upper.columns if any(upper[column] > 0.9)] # > 90% similar\n",
        "\n",
        "df_cleaned.drop(columns=to_drop, inplace=True)\n",
        "\n",
        "print(f\"Columns after dropping high corr col: {df_cleaned.shape[1]}\")\n"
      ]
    },
    {
      "cell_type": "code",
      "execution_count": 30,
      "metadata": {},
      "outputs": [
        {
          "name": "stdout",
          "output_type": "stream",
          "text": [
            "88\n"
          ]
        }
      ],
      "source": [
        "print((len(df_cleaned.columns)))"
      ]
    },
    {
      "cell_type": "markdown",
      "metadata": {},
      "source": [
        "Handle NULLs within columns"
      ]
    },
    {
      "cell_type": "code",
      "execution_count": 10,
      "metadata": {},
      "outputs": [],
      "source": [
        "#TBI"
      ]
    },
    {
      "cell_type": "markdown",
      "metadata": {
        "id": "sfmzKP6yeJIx"
      },
      "source": [
        "Translate column code names to descriptions"
      ]
    },
    {
      "cell_type": "code",
      "execution_count": null,
      "metadata": {
        "id": "MFXKxH2Mdd7A"
      },
      "outputs": [
        {
          "name": "stdout",
          "output_type": "stream",
          "text": [
            "{'Demographics': 'https://wwwn.cdc.gov/Nchs/Data/Nhanes/Public/2021/DataFiles/DEMO_L.htm', 'Medical Conditions': 'https://wwwn.cdc.gov/Nchs/Data/Nhanes/Public/2021/DataFiles/MCQ_L.htm', 'Diabetes': 'https://wwwn.cdc.gov/Nchs/Data/Nhanes/Public/2021/DataFiles/DIQ_L.htm', 'Hypertension': 'https://wwwn.cdc.gov/Nchs/Data/Nhanes/Public/2021/DataFiles/BPQ_L.htm', 'Prescription Meds': 'https://wwwn.cdc.gov/Nchs/Data/Nhanes/Public/2021/DataFiles/RXQ_RX_L.htm', 'Plasma glucose': 'https://wwwn.cdc.gov/Nchs/Data/Nhanes/Public/2021/DataFiles/GLU_L.htm', 'CBC': 'https://wwwn.cdc.gov/Nchs/Data/Nhanes/Public/2021/DataFiles/CBC_L.htm', 'Body Measures': 'https://wwwn.cdc.gov/Nchs/Data/Nhanes/Public/2021/DataFiles/BMX_L.htm', 'Immunization': 'https://wwwn.cdc.gov/Nchs/Data/Nhanes/Public/2021/DataFiles/IMQ_L.htm', 'Physical Activity': 'https://wwwn.cdc.gov/Nchs/Data/Nhanes/Public/2021/DataFiles/PAQ_L.htm', 'Alchohol Use': 'https://wwwn.cdc.gov/Nchs/Data/Nhanes/Public/2021/DataFiles/ALQ_L.htm', 'Smoking': 'https://wwwn.cdc.gov/Nchs/Data/Nhanes/Public/2021/DataFiles/SMQ_L.htm', 'Diet': 'https://wwwn.cdc.gov/Nchs/Data/Nhanes/Public/2021/DataFiles/DBQ_L.htm', 'Health Insurance': 'https://wwwn.cdc.gov/Nchs/Data/Nhanes/Public/2021/DataFiles/HIQ_L.htm', 'Housing': 'https://wwwn.cdc.gov/Nchs/Data/Nhanes/Public/2021/DataFiles/HOQ_L.htm', 'Income and Food Security': 'https://wwwn.cdc.gov/Nchs/Data/Nhanes/Public/2021/DataFiles/INQ_L.htm', 'Pesticide Use': 'https://wwwn.cdc.gov/Nchs/Data/Nhanes/Public/2021/DataFiles/PUQMEC_L.htm', 'Occupational': 'https://wwwn.cdc.gov/Nchs/Data/Nhanes/Public/2021/DataFiles/OCQ_L.htm', 'Glycohemoglobin': 'https://wwwn.cdc.gov/Nchs/Data/Nhanes/Public/2021/DataFiles/GHB_L.htm', 'Oscillometric BP': 'https://wwwn.cdc.gov/Nchs/Data/Nhanes/Public/2021/DataFiles/BPXO_L.htm'}\n"
          ]
        }
      ],
      "source": [
        "#create new url dict for hml files to scrape\n",
        "hml_urls = {\n",
        "    name: re.sub(r'\\.XPT$', '.htm', url, flags=re.IGNORECASE)\n",
        "    for name, url in urls.items()\n",
        "}\n",
        "print(hml_urls)"
      ]
    },
    {
      "cell_type": "code",
      "execution_count": 28,
      "metadata": {},
      "outputs": [
        {
          "name": "stdout",
          "output_type": "stream",
          "text": [
            "found SEQN in https://wwwn.cdc.gov/Nchs/Data/Nhanes/Public/2021/DataFiles/DEMO_L.htm\n",
            "found SDDSRVYR in https://wwwn.cdc.gov/Nchs/Data/Nhanes/Public/2021/DataFiles/DEMO_L.htm\n",
            "found RIDSTATR in https://wwwn.cdc.gov/Nchs/Data/Nhanes/Public/2021/DataFiles/DEMO_L.htm\n",
            "found RIAGENDR in https://wwwn.cdc.gov/Nchs/Data/Nhanes/Public/2021/DataFiles/DEMO_L.htm\n",
            "found RIDAGEYR in https://wwwn.cdc.gov/Nchs/Data/Nhanes/Public/2021/DataFiles/DEMO_L.htm\n",
            "found RIDRETH1 in https://wwwn.cdc.gov/Nchs/Data/Nhanes/Public/2021/DataFiles/DEMO_L.htm\n",
            "found RIDEXMON in https://wwwn.cdc.gov/Nchs/Data/Nhanes/Public/2021/DataFiles/DEMO_L.htm\n",
            "found DMQMILIZ in https://wwwn.cdc.gov/Nchs/Data/Nhanes/Public/2021/DataFiles/DEMO_L.htm\n",
            "found DMDBORN4 in https://wwwn.cdc.gov/Nchs/Data/Nhanes/Public/2021/DataFiles/DEMO_L.htm\n",
            "found DMDEDUC2 in https://wwwn.cdc.gov/Nchs/Data/Nhanes/Public/2021/DataFiles/DEMO_L.htm\n",
            "found DMDMARTZ in https://wwwn.cdc.gov/Nchs/Data/Nhanes/Public/2021/DataFiles/DEMO_L.htm\n",
            "found DMDHHSIZ in https://wwwn.cdc.gov/Nchs/Data/Nhanes/Public/2021/DataFiles/DEMO_L.htm\n",
            "found WTINT2YR in https://wwwn.cdc.gov/Nchs/Data/Nhanes/Public/2021/DataFiles/DEMO_L.htm\n",
            "found WTMEC2YR in https://wwwn.cdc.gov/Nchs/Data/Nhanes/Public/2021/DataFiles/DEMO_L.htm\n",
            "found SDMVSTRA in https://wwwn.cdc.gov/Nchs/Data/Nhanes/Public/2021/DataFiles/DEMO_L.htm\n",
            "found SDMVPSU in https://wwwn.cdc.gov/Nchs/Data/Nhanes/Public/2021/DataFiles/DEMO_L.htm\n",
            "found INDFMPIR in https://wwwn.cdc.gov/Nchs/Data/Nhanes/Public/2021/DataFiles/DEMO_L.htm\n",
            "found SEQN in https://wwwn.cdc.gov/Nchs/Data/Nhanes/Public/2021/DataFiles/MCQ_L.htm\n",
            "found MCQ010 in https://wwwn.cdc.gov/Nchs/Data/Nhanes/Public/2021/DataFiles/MCQ_L.htm\n",
            "found AGQ030 in https://wwwn.cdc.gov/Nchs/Data/Nhanes/Public/2021/DataFiles/MCQ_L.htm\n",
            "found MCQ053 in https://wwwn.cdc.gov/Nchs/Data/Nhanes/Public/2021/DataFiles/MCQ_L.htm\n",
            "found MCQ160A in https://wwwn.cdc.gov/Nchs/Data/Nhanes/Public/2021/DataFiles/MCQ_L.htm\n",
            "found MCQ160B in https://wwwn.cdc.gov/Nchs/Data/Nhanes/Public/2021/DataFiles/MCQ_L.htm\n",
            "found MCQ160C in https://wwwn.cdc.gov/Nchs/Data/Nhanes/Public/2021/DataFiles/MCQ_L.htm\n",
            "found MCQ160D in https://wwwn.cdc.gov/Nchs/Data/Nhanes/Public/2021/DataFiles/MCQ_L.htm\n",
            "found MCQ160E in https://wwwn.cdc.gov/Nchs/Data/Nhanes/Public/2021/DataFiles/MCQ_L.htm\n",
            "found MCQ160F in https://wwwn.cdc.gov/Nchs/Data/Nhanes/Public/2021/DataFiles/MCQ_L.htm\n",
            "found MCQ160M in https://wwwn.cdc.gov/Nchs/Data/Nhanes/Public/2021/DataFiles/MCQ_L.htm\n",
            "found MCQ160P in https://wwwn.cdc.gov/Nchs/Data/Nhanes/Public/2021/DataFiles/MCQ_L.htm\n",
            "found MCQ160L in https://wwwn.cdc.gov/Nchs/Data/Nhanes/Public/2021/DataFiles/MCQ_L.htm\n",
            "found MCQ550 in https://wwwn.cdc.gov/Nchs/Data/Nhanes/Public/2021/DataFiles/MCQ_L.htm\n",
            "found MCQ560 in https://wwwn.cdc.gov/Nchs/Data/Nhanes/Public/2021/DataFiles/MCQ_L.htm\n",
            "found MCQ220 in https://wwwn.cdc.gov/Nchs/Data/Nhanes/Public/2021/DataFiles/MCQ_L.htm\n",
            "found SEQN in https://wwwn.cdc.gov/Nchs/Data/Nhanes/Public/2021/DataFiles/DIQ_L.htm\n",
            "found DIQ010 in https://wwwn.cdc.gov/Nchs/Data/Nhanes/Public/2021/DataFiles/DIQ_L.htm\n",
            "found DIQ160 in https://wwwn.cdc.gov/Nchs/Data/Nhanes/Public/2021/DataFiles/DIQ_L.htm\n",
            "found DIQ180 in https://wwwn.cdc.gov/Nchs/Data/Nhanes/Public/2021/DataFiles/DIQ_L.htm\n",
            "found SEQN in https://wwwn.cdc.gov/Nchs/Data/Nhanes/Public/2021/DataFiles/BPQ_L.htm\n",
            "found BPQ020 in https://wwwn.cdc.gov/Nchs/Data/Nhanes/Public/2021/DataFiles/BPQ_L.htm\n",
            "found BPQ080 in https://wwwn.cdc.gov/Nchs/Data/Nhanes/Public/2021/DataFiles/BPQ_L.htm\n",
            "found BPQ101D in https://wwwn.cdc.gov/Nchs/Data/Nhanes/Public/2021/DataFiles/BPQ_L.htm\n",
            "found SEQN in https://wwwn.cdc.gov/Nchs/Data/Nhanes/Public/2021/DataFiles/RXQ_RX_L.htm\n",
            "found RXQ033 in https://wwwn.cdc.gov/Nchs/Data/Nhanes/Public/2021/DataFiles/RXQ_RX_L.htm\n",
            "found RXQ050 in https://wwwn.cdc.gov/Nchs/Data/Nhanes/Public/2021/DataFiles/RXQ_RX_L.htm\n",
            "found SEQN in https://wwwn.cdc.gov/Nchs/Data/Nhanes/Public/2021/DataFiles/GLU_L.htm\n",
            "found SEQN in https://wwwn.cdc.gov/Nchs/Data/Nhanes/Public/2021/DataFiles/CBC_L.htm\n",
            "found LBXWBCSI in https://wwwn.cdc.gov/Nchs/Data/Nhanes/Public/2021/DataFiles/CBC_L.htm\n",
            "found LBXLYPCT in https://wwwn.cdc.gov/Nchs/Data/Nhanes/Public/2021/DataFiles/CBC_L.htm\n",
            "found LBXMOPCT in https://wwwn.cdc.gov/Nchs/Data/Nhanes/Public/2021/DataFiles/CBC_L.htm\n",
            "found LBXEOPCT in https://wwwn.cdc.gov/Nchs/Data/Nhanes/Public/2021/DataFiles/CBC_L.htm\n",
            "found LBXBAPCT in https://wwwn.cdc.gov/Nchs/Data/Nhanes/Public/2021/DataFiles/CBC_L.htm\n",
            "found LBDLYMNO in https://wwwn.cdc.gov/Nchs/Data/Nhanes/Public/2021/DataFiles/CBC_L.htm\n",
            "found LBDMONO in https://wwwn.cdc.gov/Nchs/Data/Nhanes/Public/2021/DataFiles/CBC_L.htm\n",
            "found LBDNENO in https://wwwn.cdc.gov/Nchs/Data/Nhanes/Public/2021/DataFiles/CBC_L.htm\n",
            "found LBDEONO in https://wwwn.cdc.gov/Nchs/Data/Nhanes/Public/2021/DataFiles/CBC_L.htm\n",
            "found LBDBANO in https://wwwn.cdc.gov/Nchs/Data/Nhanes/Public/2021/DataFiles/CBC_L.htm\n",
            "found LBXRBCSI in https://wwwn.cdc.gov/Nchs/Data/Nhanes/Public/2021/DataFiles/CBC_L.htm\n",
            "found LBXHGB in https://wwwn.cdc.gov/Nchs/Data/Nhanes/Public/2021/DataFiles/CBC_L.htm\n",
            "found LBXMCVSI in https://wwwn.cdc.gov/Nchs/Data/Nhanes/Public/2021/DataFiles/CBC_L.htm\n",
            "found LBXMC in https://wwwn.cdc.gov/Nchs/Data/Nhanes/Public/2021/DataFiles/CBC_L.htm\n",
            "found LBXRDW in https://wwwn.cdc.gov/Nchs/Data/Nhanes/Public/2021/DataFiles/CBC_L.htm\n",
            "found LBXPLTSI in https://wwwn.cdc.gov/Nchs/Data/Nhanes/Public/2021/DataFiles/CBC_L.htm\n",
            "found LBXMPSI in https://wwwn.cdc.gov/Nchs/Data/Nhanes/Public/2021/DataFiles/CBC_L.htm\n",
            "found LBXNRBC in https://wwwn.cdc.gov/Nchs/Data/Nhanes/Public/2021/DataFiles/CBC_L.htm\n",
            "found SEQN in https://wwwn.cdc.gov/Nchs/Data/Nhanes/Public/2021/DataFiles/BMX_L.htm\n",
            "found BMDSTATS in https://wwwn.cdc.gov/Nchs/Data/Nhanes/Public/2021/DataFiles/BMX_L.htm\n",
            "found BMXWT in https://wwwn.cdc.gov/Nchs/Data/Nhanes/Public/2021/DataFiles/BMX_L.htm\n",
            "found BMXHT in https://wwwn.cdc.gov/Nchs/Data/Nhanes/Public/2021/DataFiles/BMX_L.htm\n",
            "found BMXLEG in https://wwwn.cdc.gov/Nchs/Data/Nhanes/Public/2021/DataFiles/BMX_L.htm\n",
            "found SEQN in https://wwwn.cdc.gov/Nchs/Data/Nhanes/Public/2021/DataFiles/IMQ_L.htm\n",
            "found IMQ011 in https://wwwn.cdc.gov/Nchs/Data/Nhanes/Public/2021/DataFiles/IMQ_L.htm\n",
            "found SEQN in https://wwwn.cdc.gov/Nchs/Data/Nhanes/Public/2021/DataFiles/PAQ_L.htm\n",
            "found PAD790Q in https://wwwn.cdc.gov/Nchs/Data/Nhanes/Public/2021/DataFiles/PAQ_L.htm\n",
            "found PAD800 in https://wwwn.cdc.gov/Nchs/Data/Nhanes/Public/2021/DataFiles/PAQ_L.htm\n",
            "found PAD810Q in https://wwwn.cdc.gov/Nchs/Data/Nhanes/Public/2021/DataFiles/PAQ_L.htm\n",
            "found PAD680 in https://wwwn.cdc.gov/Nchs/Data/Nhanes/Public/2021/DataFiles/PAQ_L.htm\n",
            "found SEQN in https://wwwn.cdc.gov/Nchs/Data/Nhanes/Public/2021/DataFiles/ALQ_L.htm\n",
            "found SEQN in https://wwwn.cdc.gov/Nchs/Data/Nhanes/Public/2021/DataFiles/SMQ_L.htm\n",
            "found SMQ020 in https://wwwn.cdc.gov/Nchs/Data/Nhanes/Public/2021/DataFiles/SMQ_L.htm\n",
            "found SMAQUEX2 in https://wwwn.cdc.gov/Nchs/Data/Nhanes/Public/2021/DataFiles/SMQ_L.htm\n",
            "found SEQN in https://wwwn.cdc.gov/Nchs/Data/Nhanes/Public/2021/DataFiles/DBQ_L.htm\n",
            "found DBQ930 in https://wwwn.cdc.gov/Nchs/Data/Nhanes/Public/2021/DataFiles/DBQ_L.htm\n",
            "found DBQ935 in https://wwwn.cdc.gov/Nchs/Data/Nhanes/Public/2021/DataFiles/DBQ_L.htm\n",
            "found DBQ940 in https://wwwn.cdc.gov/Nchs/Data/Nhanes/Public/2021/DataFiles/DBQ_L.htm\n",
            "found DBQ945 in https://wwwn.cdc.gov/Nchs/Data/Nhanes/Public/2021/DataFiles/DBQ_L.htm\n",
            "found SEQN in https://wwwn.cdc.gov/Nchs/Data/Nhanes/Public/2021/DataFiles/HIQ_L.htm\n",
            "found HIQ011 in https://wwwn.cdc.gov/Nchs/Data/Nhanes/Public/2021/DataFiles/HIQ_L.htm\n",
            "found HIQ210 in https://wwwn.cdc.gov/Nchs/Data/Nhanes/Public/2021/DataFiles/HIQ_L.htm\n",
            "found SEQN in https://wwwn.cdc.gov/Nchs/Data/Nhanes/Public/2021/DataFiles/HOQ_L.htm\n",
            "found HOD051 in https://wwwn.cdc.gov/Nchs/Data/Nhanes/Public/2021/DataFiles/HOQ_L.htm\n",
            "found SEQN in https://wwwn.cdc.gov/Nchs/Data/Nhanes/Public/2021/DataFiles/INQ_L.htm\n",
            "found INDFMMPI in https://wwwn.cdc.gov/Nchs/Data/Nhanes/Public/2021/DataFiles/INQ_L.htm\n",
            "found INDFMMPC in https://wwwn.cdc.gov/Nchs/Data/Nhanes/Public/2021/DataFiles/INQ_L.htm\n",
            "found INQ300 in https://wwwn.cdc.gov/Nchs/Data/Nhanes/Public/2021/DataFiles/INQ_L.htm\n",
            "found SEQN in https://wwwn.cdc.gov/Nchs/Data/Nhanes/Public/2021/DataFiles/PUQMEC_L.htm\n",
            "found PUQ100 in https://wwwn.cdc.gov/Nchs/Data/Nhanes/Public/2021/DataFiles/PUQMEC_L.htm\n",
            "found PUQ110 in https://wwwn.cdc.gov/Nchs/Data/Nhanes/Public/2021/DataFiles/PUQMEC_L.htm\n",
            "found SEQN in https://wwwn.cdc.gov/Nchs/Data/Nhanes/Public/2021/DataFiles/OCQ_L.htm\n",
            "found OCD150 in https://wwwn.cdc.gov/Nchs/Data/Nhanes/Public/2021/DataFiles/OCQ_L.htm\n",
            "found SEQN in https://wwwn.cdc.gov/Nchs/Data/Nhanes/Public/2021/DataFiles/GHB_L.htm\n",
            "found LBXGH in https://wwwn.cdc.gov/Nchs/Data/Nhanes/Public/2021/DataFiles/GHB_L.htm\n",
            "found SEQN in https://wwwn.cdc.gov/Nchs/Data/Nhanes/Public/2021/DataFiles/BPXO_L.htm\n",
            "found BPAOCSZ in https://wwwn.cdc.gov/Nchs/Data/Nhanes/Public/2021/DataFiles/BPXO_L.htm\n",
            "found BPXOSY1 in https://wwwn.cdc.gov/Nchs/Data/Nhanes/Public/2021/DataFiles/BPXO_L.htm\n",
            "found BPXODI1 in https://wwwn.cdc.gov/Nchs/Data/Nhanes/Public/2021/DataFiles/BPXO_L.htm\n",
            "found BPXOPLS1 in https://wwwn.cdc.gov/Nchs/Data/Nhanes/Public/2021/DataFiles/BPXO_L.htm\n",
            "{'SEQN': 'Respondent sequence number', 'SDDSRVYR': 'Data release cycle', 'RIDSTATR': 'Interview/Examination status', 'RIAGENDR': 'Gender', 'RIDAGEYR': 'Age in years at screening', 'RIDRETH1': 'Race/Hispanic origin', 'RIDEXMON': 'Six-month time period', 'DMQMILIZ': 'Served active duty in US Armed Forces', 'DMDBORN4': 'Country of birth', 'DMDEDUC2': 'Education level - Adults 20+', 'DMDMARTZ': 'Marital status', 'DMDHHSIZ': 'Total number of people in the Household', 'WTINT2YR': 'Full sample 2-year interview weight', 'WTMEC2YR': 'Full sample 2-year MEC exam weight', 'SDMVSTRA': 'Masked variance pseudo-stratum', 'SDMVPSU': 'Masked variance pseudo-PSU', 'INDFMPIR': 'Ratio of family income to poverty', 'MCQ010': 'Ever been told you have asthma', 'AGQ030': 'Did SP have episode of hay fever/past yr', 'MCQ053': 'Taking treatment for anemia/past 3 mos', 'MCQ160A': 'Doctor ever said you had arthritis', 'MCQ160B': 'Ever told had congestive heart failure', 'MCQ160C': 'Ever told you had coronary heart disease', 'MCQ160D': 'Ever told you had angina/angina pectoris', 'MCQ160E': 'Ever told you had heart attack', 'MCQ160F': 'Ever told you had a stroke', 'MCQ160M': 'Ever told you had thyroid problem', 'MCQ160P': 'Ever told you had COPD, emphysema, ChB', 'MCQ160L': 'Ever told you had any liver condition', 'MCQ550': 'Has DR ever said you have gallstones', 'MCQ560': 'Ever had gallbladder surgery?', 'MCQ220': 'Ever told you had cancer or malignancy', 'DIQ010': 'Doctor told you have diabetes', 'DIQ160': 'Ever told you have prediabetes', 'DIQ180': 'Had blood tested past three years', 'BPQ020': 'Ever told you had high blood pressure', 'BPQ080': 'Doctor told you - high cholesterol level', 'BPQ101D': 'Taking meds to lower blood cholesterol?', 'RXQ033': 'Taken prescription medicine, past month', 'RXQ050': 'Number of prescription medicines taken', 'LBXWBCSI': 'White blood cell count (1000 cells/uL)', 'LBXLYPCT': 'Lymphocyte percent (%)', 'LBXMOPCT': 'Monocyte percent (%)', 'LBXEOPCT': 'Eosinophils percent (%)', 'LBXBAPCT': 'Basophils percent (%)', 'LBDLYMNO': 'Lymphocyte number (1000 cells/uL)', 'LBDMONO': 'Monocyte number (1000 cells/uL)', 'LBDNENO': 'Segmented neutrophils num (1000 cell/uL)', 'LBDEONO': 'Eosinophils number (1000 cells/uL)', 'LBDBANO': 'Basophils number (1000 cells/uL)', 'LBXRBCSI': 'Red blood cell count (million cells/uL)', 'LBXHGB': 'Hemoglobin (g/dL)', 'LBXMCVSI': 'Mean cell volume (fL)', 'LBXMC': 'Mean Cell Hgb Conc. (g/dL)', 'LBXRDW': 'Red cell distribution width (%)', 'LBXPLTSI': 'Platelet count (1000 cells/uL)', 'LBXMPSI': 'Mean platelet volume (fL)', 'LBXNRBC': 'Nucleated red blood cells (/100 WBC)', 'BMDSTATS': 'Body Measures Component Status Code', 'BMXWT': 'Weight (kg)', 'BMXHT': 'Standing Height (cm)', 'BMXLEG': 'Upper Leg Length (cm)', 'IMQ011': 'Received Hepatitis A vaccine', 'PAD790Q': 'Frequency of moderate LTPA', 'PAD800': 'Minutes moderate LTPA', 'PAD810Q': 'Frequency of vigorous LTPA', 'PAD680': 'Minutes sedentary activity', 'SMQ020': 'Smoked at least 100 cigarettes in life', 'SMAQUEX2': 'Questionnaire Mode Flag', 'DBQ930': 'Main meal planner/preparer', 'DBQ935': 'Shared meal planning/preparing duty', 'DBQ940': 'Main food shopper', 'DBQ945': 'Shared food shopping duty', 'HIQ011': 'Covered by health insurance', 'HIQ210': 'Time when no insurance in past year?', 'HOD051': 'Number of rooms in home', 'INDFMMPI': 'Family monthly poverty level index', 'INDFMMPC': 'Family monthly poverty level category', 'INQ300': 'Family has savings more than $20,000', 'PUQ100': 'Products used in home to control insects', 'PUQ110': 'Products used to kill weeds?', 'OCD150': 'Type of work done last week', 'LBXGH': 'Glycohemoglobin (%)', 'BPAOCSZ': 'Coded cuff size - oscillometric', 'BPXOSY1': 'Systolic - 1st oscillometric reading', 'BPXODI1': 'Diastolic - 1st oscillometric reading', 'BPXOPLS1': 'Pulse - 1st oscillometric reading'}\n"
          ]
        }
      ],
      "source": [
        "#scrape variable names and labels from htm files\n",
        "#go through each url and check to see if any of our codes exist in it\n",
        "#scrape the sas labels for each code\n",
        "from bs4 import BeautifulSoup\n",
        "\n",
        "def extract_labels(url):\n",
        "    try:\n",
        "        resp = requests.get(url)\n",
        "        soup = BeautifulSoup(resp.content, 'html.parser')\n",
        "    except:\n",
        "        print(f'theres an error in {url}')\n",
        "    result = {}\n",
        "    for dl in soup.find_all('dl'):\n",
        "        dds = dl.find_all('dd')\n",
        "        for code in df_cleaned.columns:\n",
        "            cod = code.lower()\n",
        "            if cod == dds[0].get_text(strip=True).lower():\n",
        "                result[code] = dds[1].get_text(strip=True)\n",
        "                print(f'found {code} in {url}')\n",
        "    return result\n",
        "\n",
        "code_map = {}\n",
        "\n",
        "for name, url in hml_urls.items():\n",
        "    code_map = code_map | extract_labels(url)\n",
        "\n",
        "print(code_map)\n"
      ]
    },
    {
      "cell_type": "code",
      "execution_count": null,
      "metadata": {},
      "outputs": [],
      "source": [
        "#save code map to a file for ease\n",
        "cm = pd.DataFrame(list(code_map.items()), columns=['Variable', 'SAS label'])\n",
        "cm.to_csv('sas_labels.csv', index=False)"
      ]
    },
    {
      "cell_type": "markdown",
      "metadata": {
        "id": "ffjvPq-9CgIH"
      },
      "source": [
        "### Separate the data"
      ]
    },
    {
      "cell_type": "markdown",
      "metadata": {
        "id": "nx1BrueWC9y8"
      },
      "source": [
        "We want to split the data into x and y. X will be what we use to make a prediction on the variable y"
      ]
    },
    {
      "cell_type": "markdown",
      "metadata": {
        "id": "wVdStn-zCnQ5"
      },
      "source": [
        "### Split the data"
      ]
    },
    {
      "cell_type": "markdown",
      "metadata": {
        "id": "J6OuQonfBn9A"
      },
      "source": [
        "## Building the Model"
      ]
    },
    {
      "cell_type": "markdown",
      "metadata": {
        "id": "KdfLAY2vCRII"
      },
      "source": [
        "## Data Visualization and Evaluation"
      ]
    },
    {
      "cell_type": "code",
      "execution_count": null,
      "metadata": {
        "id": "hSxPDEQFBmNv"
      },
      "outputs": [],
      "source": []
    }
  ],
  "metadata": {
    "colab": {
      "provenance": []
    },
    "kernelspec": {
      "display_name": "Python 3",
      "name": "python3"
    },
    "language_info": {
      "codemirror_mode": {
        "name": "ipython",
        "version": 3
      },
      "file_extension": ".py",
      "mimetype": "text/x-python",
      "name": "python",
      "nbconvert_exporter": "python",
      "pygments_lexer": "ipython3",
      "version": "3.12.10"
    }
  },
  "nbformat": 4,
  "nbformat_minor": 0
}
