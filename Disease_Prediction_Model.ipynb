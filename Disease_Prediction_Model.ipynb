{
  "nbformat": 4,
  "nbformat_minor": 0,
  "metadata": {
    "colab": {
      "provenance": []
    },
    "kernelspec": {
      "name": "python3",
      "display_name": "Python 3"
    },
    "language_info": {
      "name": "python"
    }
  },
  "cells": [
    {
      "cell_type": "markdown",
      "source": [
        "# CS 439 Final Project - Disease Prediction ML Model\n"
      ],
      "metadata": {
        "id": "ikah7bgPAtr7"
      }
    },
    {
      "cell_type": "code",
      "source": [
        "!pip install pandas requests pyreadstat"
      ],
      "metadata": {
        "id": "QQG1w01JGWed",
        "outputId": "9f502508-09e8-4157-a7d9-ab6df7c14633",
        "colab": {
          "base_uri": "https://localhost:8080/"
        }
      },
      "execution_count": null,
      "outputs": [
        {
          "output_type": "stream",
          "name": "stdout",
          "text": [
            "Requirement already satisfied: pandas in /usr/local/lib/python3.11/dist-packages (2.2.2)\n",
            "Requirement already satisfied: requests in /usr/local/lib/python3.11/dist-packages (2.32.3)\n",
            "Requirement already satisfied: pyreadstat in /usr/local/lib/python3.11/dist-packages (1.2.8)\n",
            "Requirement already satisfied: numpy>=1.23.2 in /usr/local/lib/python3.11/dist-packages (from pandas) (2.0.2)\n",
            "Requirement already satisfied: python-dateutil>=2.8.2 in /usr/local/lib/python3.11/dist-packages (from pandas) (2.9.0.post0)\n",
            "Requirement already satisfied: pytz>=2020.1 in /usr/local/lib/python3.11/dist-packages (from pandas) (2025.2)\n",
            "Requirement already satisfied: tzdata>=2022.7 in /usr/local/lib/python3.11/dist-packages (from pandas) (2025.2)\n",
            "Requirement already satisfied: charset-normalizer<4,>=2 in /usr/local/lib/python3.11/dist-packages (from requests) (3.4.1)\n",
            "Requirement already satisfied: idna<4,>=2.5 in /usr/local/lib/python3.11/dist-packages (from requests) (3.10)\n",
            "Requirement already satisfied: urllib3<3,>=1.21.1 in /usr/local/lib/python3.11/dist-packages (from requests) (2.4.0)\n",
            "Requirement already satisfied: certifi>=2017.4.17 in /usr/local/lib/python3.11/dist-packages (from requests) (2025.4.26)\n",
            "Requirement already satisfied: six>=1.5 in /usr/local/lib/python3.11/dist-packages (from python-dateutil>=2.8.2->pandas) (1.17.0)\n"
          ]
        }
      ]
    },
    {
      "cell_type": "code",
      "source": [
        "import numpy as np\n",
        "import pandas as pd\n",
        "import pyreadstat\n",
        "import requests"
      ],
      "metadata": {
        "id": "K4TCshKnEiOb"
      },
      "execution_count": null,
      "outputs": []
    },
    {
      "cell_type": "markdown",
      "source": [
        "## Data Processing"
      ],
      "metadata": {
        "id": "HavmzvBeBiMz"
      }
    },
    {
      "cell_type": "markdown",
      "source": [
        "### Fetching the data"
      ],
      "metadata": {
        "id": "RkJULTY-CV7C"
      }
    },
    {
      "cell_type": "markdown",
      "source": [
        "We are using data from NHANES (National Health and Nutrition Examination Survey). We are going to gather data that enacapsulates a wider range than traditional models, specifically data that isn't necessarily medical related."
      ],
      "metadata": {
        "id": "ZmXPmzCqEas-"
      }
    },
    {
      "cell_type": "markdown",
      "source": [
        "links can be found at [https://wwwn.cdc.gov/nchs/nhanes/continuousnhanes/default.aspx?Cycle=2021-2023](https://)"
      ],
      "metadata": {
        "id": "GfvIfTUoR013"
      }
    },
    {
      "cell_type": "code",
      "source": [
        "from typing import ByteString\n",
        "from io import BytesIO\n",
        "\n",
        "def load_xpt(url):\n",
        "  response = requests.get(url)\n",
        "  if response.status_code != 200:\n",
        "    raise Exception(f'failed to download {url}')\n",
        "  return pd.read_sas(BytesIO(response.content), format='xport')\n",
        "\n",
        "#base_url = 'https://wwwn.cdc.gov/Nchs/Nhanes/2021-2022/'\n",
        "base_url = 'https://wwwn.cdc.gov/Nchs/Data/Nhanes/Public/2021/DataFiles/'\n",
        "\n",
        "urls = {\n",
        "    'Demographics': base_url + 'DEMO_L.XPT',\n",
        "    'Medical Conditions': base_url + 'MCQ_L.XPT',\n",
        "    'Diabetes': base_url + 'DIQ_L.XPT',\n",
        "    'Hypertension': base_url + 'BPQ_L.XPT',\n",
        "    'Prescription Meds': base_url + 'RXQ_RX_L.XPT',\n",
        "    'Plasma glucose': base_url + 'GLU_L.XPT',\n",
        "    'CBC': base_url + 'CBC_L.XPT',\n",
        "    'Body Measures': base_url + 'BMX_L.XPT',\n",
        "    'Immunization': base_url + 'IMQ_L.XPT',\n",
        "    'Physical Activity': base_url + 'PAQ_L.XPT',\n",
        "    'Alchohol Use': base_url + 'ALQ_L.XPT',\n",
        "    'Smoking': base_url + 'SMQ_L.XPT',\n",
        "    'Diet': base_url + 'DBQ_L.XPT',\n",
        "    'Health Insurance': base_url + 'HIQ_L.XPT',\n",
        "    'Housing': base_url + 'HOQ_L.XPT',\n",
        "    'Income and Food Security': base_url + 'INQ_L.XPT',\n",
        "    'Pesticide Use': base_url + 'PUQMEC_L.XPT',\n",
        "    'Occupational': base_url + 'OCQ_L.XPT',\n",
        "    'Glycohemoglobin': base_url + 'GHB_L.XPT',\n",
        "    'Oscillometric BP': base_url + 'BPXO_L.XPT'\n",
        "}\n",
        "\n",
        "data = {}\n",
        "for name, url in urls.items():\n",
        "  try:\n",
        "    data[name] = load_xpt(url)\n",
        "    print(f'loaded {name}')\n",
        "  except Exception as e:\n",
        "    print(f'Failed to load {name} : {e}')\n",
        "\n",
        "df = data['Demographics'] #starting with demographics\n",
        "for key in data:\n",
        "  if key != 'Demographics':\n",
        "    df = df.merge(data[key], on='SEQN', how='left')\n",
        "\n"
      ],
      "metadata": {
        "id": "LxEcpNF5EgTI",
        "colab": {
          "base_uri": "https://localhost:8080/"
        },
        "outputId": "f1e11174-c35f-439e-c7aa-f60f3c029cd8"
      },
      "execution_count": null,
      "outputs": [
        {
          "output_type": "stream",
          "name": "stdout",
          "text": [
            "loaded Demographics\n",
            "loaded Medical Conditions\n",
            "loaded Diabetes\n",
            "loaded Hypertension\n",
            "loaded Prescription Meds\n",
            "loaded Plasma glucose\n",
            "loaded CBC\n",
            "loaded Body Measures\n",
            "loaded Immunization\n",
            "loaded Physical Activity\n",
            "loaded Alchohol Use\n",
            "loaded Smoking\n",
            "loaded Diet\n",
            "loaded Health Insurance\n",
            "loaded Housing\n",
            "loaded Income and Food Security\n",
            "loaded Pesticide Use\n",
            "loaded Occupational\n",
            "loaded Glycohemoglobin\n",
            "loaded Oscillometric BP\n"
          ]
        }
      ]
    },
    {
      "cell_type": "markdown",
      "source": [
        "### Explore the Data"
      ],
      "metadata": {
        "id": "jk9kQceORhOs"
      }
    },
    {
      "cell_type": "code",
      "source": [
        "#saving the original data to a file\n",
        "from google.colab import files\n",
        "df.to_csv('df.csv', index=False)\n",
        "# files.download('df.csv')"
      ],
      "metadata": {
        "id": "0yH0gjiQemYe"
      },
      "execution_count": null,
      "outputs": []
    },
    {
      "cell_type": "code",
      "source": [
        "print(len(set(df.columns)))\n",
        "print(set(df.columns))\n",
        "print(f\"Final merged shape: {df.shape}\")\n",
        "df.head()\n"
      ],
      "metadata": {
        "colab": {
          "base_uri": "https://localhost:8080/",
          "height": 298
        },
        "id": "WxPTtrQZc--x",
        "outputId": "b4d93243-7e16-4ab3-e760-1e7b7cfcffd8"
      },
      "execution_count": null,
      "outputs": [
        {
          "output_type": "stream",
          "name": "stdout",
          "text": [
            "211\n",
            "{'DMDHRAGZ', 'WTPH2YR_x', 'IMQ011', 'HIQ032A', 'DBD030', 'PUQ110', 'BPQ101D', 'MCQ160M', 'BMIHT', 'LBDGLUSI', 'LBXHCT', 'LBXGLU', 'DIQ180', 'OCQ210', 'DID060', 'MCQ510A', 'SMD630', 'RIDRETH3', 'MCQ160B', 'PAD820', 'ALQ130', 'BMDSTATS', 'BMXHIP', 'MCQ160D', 'LBDLYMNO', 'BPXODI2', 'DBQ421', 'BMIWT', 'BPAOARM', 'MCQ160C', 'MCQ560', 'LBXNEPCT', 'LBXMCHSI', 'BMXRECUM', 'ALQ270', 'DMQMILIZ', 'DBQ940', 'LBDNENO', 'RIDAGEMN', 'MCQ510B', 'HIQ032B', 'PAD790Q', 'MCQ040', 'LBXMOPCT', 'WTINT2YR', 'LBXMC', 'BMDBMIC', 'IMQ100', 'DMDHSEDZ', 'SMQ020', 'SMD100MN', 'OCQ215', 'MCQ510F', 'MCQ160F', 'MCQ230B', 'BMXARMC', 'INQ300', 'LBXWBCSI', 'HIQ011', 'DBQ073E', 'DMDBORN4', 'SEQN', 'ALQ121', 'LBXRDW', 'DBQ390', 'BPXOPLS2', 'LBXRBCSI', 'DMDYRUSR', 'BMIRECUM', 'MCQ220', 'LBDBANO', 'HIQ032F', 'DMDHRMAZ', 'BPQ080', 'LBXPLTSI', 'DMDEDUC2', 'SMD641', 'DBD041', 'BPXODI3', 'SDDSRVYR', 'SDMVSTRA', 'WTMEC2YR', 'LBXBAPCT', 'RXQ050', 'PAD790U', 'MCQ230A', 'DIQ050', 'DBD055', 'MCQ160P', 'PAD810U', 'LBXEOPCT', 'IMQ070', 'OCQ383', 'HIQ032H', 'BPAOCSZ', 'MCQ550', 'DBQ400', 'DBQ073C', 'PAD800', 'DBQ370', 'DBQ010', 'SMAQUEX2', 'IMQ060', 'DBQ945', 'MCQ195', 'BMIHIP', 'LBDEONO', 'DBQ301', 'DBD061', 'DMDHRGND', 'BMIWAIST', 'LBDMONO', 'MCQ035', 'PAD680', 'MCQ500', 'INDFMMPC', 'DBQ073U', 'IMQ090', 'MCQ170L', 'BPXOSY3', 'WTSAF2YR', 'RIDAGEYR', 'HIQ032E', 'INDFMMPI', 'RXQ033', 'ALQ170', 'MCQ510E', 'ALQ111', 'MCQ160A', 'LBXNRBC', 'DIQ010', 'LBXMPSI', 'RIDEXPRG', 'MCQ010', 'DIQ160', 'BMIARML', 'SMD650', 'IND310', 'BPXODI1', 'DBD050', 'MCQ149', 'AGQ030', 'DIQ060U', 'MCQ053', 'BMXARML', 'SMQ621', 'DBQ930', 'ALQ151', 'PAD810Q', 'BMXLEG', 'HIQ032D', 'PUQ100', 'LBXGH', 'RIDSTATR', 'BPXOPLS3', 'OCQ180', 'ALQ142', 'DBQ360', 'MCQ510D', 'HIQ032C', 'LBXLYPCT', 'DIQ070', 'RIDEXAGM', 'SDMVPSU', 'MCQ050', 'HIQ210', 'OCD150', 'BMXHEAD', 'BPXOSY1', 'SMQ040', 'MCQ230C', 'DBD411', 'BPXOPLS1', 'DBQ073D', 'INDFMPIR', 'BMIHEAD', 'DBD381', 'DBQ424', 'ALQ280', 'HOD051', 'BMXWAIST', 'DMDHREDZ', 'MCQ160L', 'BPQ150', 'BPQ020', 'DBQ073A', 'MCQ160E', 'DMDMARTZ', 'LBXHGB', 'WTPH2YR_y', 'HIQ032I', 'DBQ073B', 'MCQ230D', 'DMDHHSIZ', 'MCQ170M', 'DBQ330', 'DID040', 'BMXWT', 'BMIARMC', 'RIAGENDR', 'DBQ935', 'RIDRETH1', 'BPQ030', 'MCQ510C', 'BMXHT', 'BPXOSY2', 'OSQ230', 'LBXMCVSI', 'BMXBMI', 'BMILEG', 'RIDEXMON'}\n",
            "Final merged shape: (11933, 211)\n"
          ]
        },
        {
          "output_type": "execute_result",
          "data": {
            "text/plain": [
              "       SEQN  SDDSRVYR  RIDSTATR  RIAGENDR  RIDAGEYR  RIDAGEMN  RIDRETH1  \\\n",
              "0  130378.0      12.0       2.0       1.0      43.0       NaN       5.0   \n",
              "1  130379.0      12.0       2.0       1.0      66.0       NaN       3.0   \n",
              "2  130380.0      12.0       2.0       2.0      44.0       NaN       2.0   \n",
              "3  130381.0      12.0       2.0       2.0       5.0       NaN       5.0   \n",
              "4  130382.0      12.0       2.0       1.0       2.0       NaN       3.0   \n",
              "\n",
              "   RIDRETH3  RIDEXMON  RIDEXAGM  ...  BPAOCSZ  BPXOSY1  BPXODI1  BPXOSY2  \\\n",
              "0       6.0       2.0       NaN  ...      4.0    135.0     98.0    131.0   \n",
              "1       3.0       2.0       NaN  ...      4.0    121.0     84.0    117.0   \n",
              "2       2.0       1.0       NaN  ...      4.0    111.0     79.0    112.0   \n",
              "3       7.0       1.0      71.0  ...      NaN      NaN      NaN      NaN   \n",
              "4       3.0       2.0      34.0  ...      NaN      NaN      NaN      NaN   \n",
              "\n",
              "   BPXODI2  BPXOSY3  BPXODI3  BPXOPLS1  BPXOPLS2  BPXOPLS3  \n",
              "0     96.0    132.0     94.0      82.0      79.0      82.0  \n",
              "1     76.0    113.0     76.0      72.0      71.0      73.0  \n",
              "2     80.0    104.0     76.0      84.0      83.0      77.0  \n",
              "3      NaN      NaN      NaN       NaN       NaN       NaN  \n",
              "4      NaN      NaN      NaN       NaN       NaN       NaN  \n",
              "\n",
              "[5 rows x 211 columns]"
            ],
            "text/html": [
              "\n",
              "  <div id=\"df-8edacdf9-7e4c-4097-bd31-e97dfa5fe7d5\" class=\"colab-df-container\">\n",
              "    <div>\n",
              "<style scoped>\n",
              "    .dataframe tbody tr th:only-of-type {\n",
              "        vertical-align: middle;\n",
              "    }\n",
              "\n",
              "    .dataframe tbody tr th {\n",
              "        vertical-align: top;\n",
              "    }\n",
              "\n",
              "    .dataframe thead th {\n",
              "        text-align: right;\n",
              "    }\n",
              "</style>\n",
              "<table border=\"1\" class=\"dataframe\">\n",
              "  <thead>\n",
              "    <tr style=\"text-align: right;\">\n",
              "      <th></th>\n",
              "      <th>SEQN</th>\n",
              "      <th>SDDSRVYR</th>\n",
              "      <th>RIDSTATR</th>\n",
              "      <th>RIAGENDR</th>\n",
              "      <th>RIDAGEYR</th>\n",
              "      <th>RIDAGEMN</th>\n",
              "      <th>RIDRETH1</th>\n",
              "      <th>RIDRETH3</th>\n",
              "      <th>RIDEXMON</th>\n",
              "      <th>RIDEXAGM</th>\n",
              "      <th>...</th>\n",
              "      <th>BPAOCSZ</th>\n",
              "      <th>BPXOSY1</th>\n",
              "      <th>BPXODI1</th>\n",
              "      <th>BPXOSY2</th>\n",
              "      <th>BPXODI2</th>\n",
              "      <th>BPXOSY3</th>\n",
              "      <th>BPXODI3</th>\n",
              "      <th>BPXOPLS1</th>\n",
              "      <th>BPXOPLS2</th>\n",
              "      <th>BPXOPLS3</th>\n",
              "    </tr>\n",
              "  </thead>\n",
              "  <tbody>\n",
              "    <tr>\n",
              "      <th>0</th>\n",
              "      <td>130378.0</td>\n",
              "      <td>12.0</td>\n",
              "      <td>2.0</td>\n",
              "      <td>1.0</td>\n",
              "      <td>43.0</td>\n",
              "      <td>NaN</td>\n",
              "      <td>5.0</td>\n",
              "      <td>6.0</td>\n",
              "      <td>2.0</td>\n",
              "      <td>NaN</td>\n",
              "      <td>...</td>\n",
              "      <td>4.0</td>\n",
              "      <td>135.0</td>\n",
              "      <td>98.0</td>\n",
              "      <td>131.0</td>\n",
              "      <td>96.0</td>\n",
              "      <td>132.0</td>\n",
              "      <td>94.0</td>\n",
              "      <td>82.0</td>\n",
              "      <td>79.0</td>\n",
              "      <td>82.0</td>\n",
              "    </tr>\n",
              "    <tr>\n",
              "      <th>1</th>\n",
              "      <td>130379.0</td>\n",
              "      <td>12.0</td>\n",
              "      <td>2.0</td>\n",
              "      <td>1.0</td>\n",
              "      <td>66.0</td>\n",
              "      <td>NaN</td>\n",
              "      <td>3.0</td>\n",
              "      <td>3.0</td>\n",
              "      <td>2.0</td>\n",
              "      <td>NaN</td>\n",
              "      <td>...</td>\n",
              "      <td>4.0</td>\n",
              "      <td>121.0</td>\n",
              "      <td>84.0</td>\n",
              "      <td>117.0</td>\n",
              "      <td>76.0</td>\n",
              "      <td>113.0</td>\n",
              "      <td>76.0</td>\n",
              "      <td>72.0</td>\n",
              "      <td>71.0</td>\n",
              "      <td>73.0</td>\n",
              "    </tr>\n",
              "    <tr>\n",
              "      <th>2</th>\n",
              "      <td>130380.0</td>\n",
              "      <td>12.0</td>\n",
              "      <td>2.0</td>\n",
              "      <td>2.0</td>\n",
              "      <td>44.0</td>\n",
              "      <td>NaN</td>\n",
              "      <td>2.0</td>\n",
              "      <td>2.0</td>\n",
              "      <td>1.0</td>\n",
              "      <td>NaN</td>\n",
              "      <td>...</td>\n",
              "      <td>4.0</td>\n",
              "      <td>111.0</td>\n",
              "      <td>79.0</td>\n",
              "      <td>112.0</td>\n",
              "      <td>80.0</td>\n",
              "      <td>104.0</td>\n",
              "      <td>76.0</td>\n",
              "      <td>84.0</td>\n",
              "      <td>83.0</td>\n",
              "      <td>77.0</td>\n",
              "    </tr>\n",
              "    <tr>\n",
              "      <th>3</th>\n",
              "      <td>130381.0</td>\n",
              "      <td>12.0</td>\n",
              "      <td>2.0</td>\n",
              "      <td>2.0</td>\n",
              "      <td>5.0</td>\n",
              "      <td>NaN</td>\n",
              "      <td>5.0</td>\n",
              "      <td>7.0</td>\n",
              "      <td>1.0</td>\n",
              "      <td>71.0</td>\n",
              "      <td>...</td>\n",
              "      <td>NaN</td>\n",
              "      <td>NaN</td>\n",
              "      <td>NaN</td>\n",
              "      <td>NaN</td>\n",
              "      <td>NaN</td>\n",
              "      <td>NaN</td>\n",
              "      <td>NaN</td>\n",
              "      <td>NaN</td>\n",
              "      <td>NaN</td>\n",
              "      <td>NaN</td>\n",
              "    </tr>\n",
              "    <tr>\n",
              "      <th>4</th>\n",
              "      <td>130382.0</td>\n",
              "      <td>12.0</td>\n",
              "      <td>2.0</td>\n",
              "      <td>1.0</td>\n",
              "      <td>2.0</td>\n",
              "      <td>NaN</td>\n",
              "      <td>3.0</td>\n",
              "      <td>3.0</td>\n",
              "      <td>2.0</td>\n",
              "      <td>34.0</td>\n",
              "      <td>...</td>\n",
              "      <td>NaN</td>\n",
              "      <td>NaN</td>\n",
              "      <td>NaN</td>\n",
              "      <td>NaN</td>\n",
              "      <td>NaN</td>\n",
              "      <td>NaN</td>\n",
              "      <td>NaN</td>\n",
              "      <td>NaN</td>\n",
              "      <td>NaN</td>\n",
              "      <td>NaN</td>\n",
              "    </tr>\n",
              "  </tbody>\n",
              "</table>\n",
              "<p>5 rows × 211 columns</p>\n",
              "</div>\n",
              "    <div class=\"colab-df-buttons\">\n",
              "\n",
              "  <div class=\"colab-df-container\">\n",
              "    <button class=\"colab-df-convert\" onclick=\"convertToInteractive('df-8edacdf9-7e4c-4097-bd31-e97dfa5fe7d5')\"\n",
              "            title=\"Convert this dataframe to an interactive table.\"\n",
              "            style=\"display:none;\">\n",
              "\n",
              "  <svg xmlns=\"http://www.w3.org/2000/svg\" height=\"24px\" viewBox=\"0 -960 960 960\">\n",
              "    <path d=\"M120-120v-720h720v720H120Zm60-500h600v-160H180v160Zm220 220h160v-160H400v160Zm0 220h160v-160H400v160ZM180-400h160v-160H180v160Zm440 0h160v-160H620v160ZM180-180h160v-160H180v160Zm440 0h160v-160H620v160Z\"/>\n",
              "  </svg>\n",
              "    </button>\n",
              "\n",
              "  <style>\n",
              "    .colab-df-container {\n",
              "      display:flex;\n",
              "      gap: 12px;\n",
              "    }\n",
              "\n",
              "    .colab-df-convert {\n",
              "      background-color: #E8F0FE;\n",
              "      border: none;\n",
              "      border-radius: 50%;\n",
              "      cursor: pointer;\n",
              "      display: none;\n",
              "      fill: #1967D2;\n",
              "      height: 32px;\n",
              "      padding: 0 0 0 0;\n",
              "      width: 32px;\n",
              "    }\n",
              "\n",
              "    .colab-df-convert:hover {\n",
              "      background-color: #E2EBFA;\n",
              "      box-shadow: 0px 1px 2px rgba(60, 64, 67, 0.3), 0px 1px 3px 1px rgba(60, 64, 67, 0.15);\n",
              "      fill: #174EA6;\n",
              "    }\n",
              "\n",
              "    .colab-df-buttons div {\n",
              "      margin-bottom: 4px;\n",
              "    }\n",
              "\n",
              "    [theme=dark] .colab-df-convert {\n",
              "      background-color: #3B4455;\n",
              "      fill: #D2E3FC;\n",
              "    }\n",
              "\n",
              "    [theme=dark] .colab-df-convert:hover {\n",
              "      background-color: #434B5C;\n",
              "      box-shadow: 0px 1px 3px 1px rgba(0, 0, 0, 0.15);\n",
              "      filter: drop-shadow(0px 1px 2px rgba(0, 0, 0, 0.3));\n",
              "      fill: #FFFFFF;\n",
              "    }\n",
              "  </style>\n",
              "\n",
              "    <script>\n",
              "      const buttonEl =\n",
              "        document.querySelector('#df-8edacdf9-7e4c-4097-bd31-e97dfa5fe7d5 button.colab-df-convert');\n",
              "      buttonEl.style.display =\n",
              "        google.colab.kernel.accessAllowed ? 'block' : 'none';\n",
              "\n",
              "      async function convertToInteractive(key) {\n",
              "        const element = document.querySelector('#df-8edacdf9-7e4c-4097-bd31-e97dfa5fe7d5');\n",
              "        const dataTable =\n",
              "          await google.colab.kernel.invokeFunction('convertToInteractive',\n",
              "                                                    [key], {});\n",
              "        if (!dataTable) return;\n",
              "\n",
              "        const docLinkHtml = 'Like what you see? Visit the ' +\n",
              "          '<a target=\"_blank\" href=https://colab.research.google.com/notebooks/data_table.ipynb>data table notebook</a>'\n",
              "          + ' to learn more about interactive tables.';\n",
              "        element.innerHTML = '';\n",
              "        dataTable['output_type'] = 'display_data';\n",
              "        await google.colab.output.renderOutput(dataTable, element);\n",
              "        const docLink = document.createElement('div');\n",
              "        docLink.innerHTML = docLinkHtml;\n",
              "        element.appendChild(docLink);\n",
              "      }\n",
              "    </script>\n",
              "  </div>\n",
              "\n",
              "\n",
              "    <div id=\"df-d0182f94-2353-44b2-91dd-6c64f8babbed\">\n",
              "      <button class=\"colab-df-quickchart\" onclick=\"quickchart('df-d0182f94-2353-44b2-91dd-6c64f8babbed')\"\n",
              "                title=\"Suggest charts\"\n",
              "                style=\"display:none;\">\n",
              "\n",
              "<svg xmlns=\"http://www.w3.org/2000/svg\" height=\"24px\"viewBox=\"0 0 24 24\"\n",
              "     width=\"24px\">\n",
              "    <g>\n",
              "        <path d=\"M19 3H5c-1.1 0-2 .9-2 2v14c0 1.1.9 2 2 2h14c1.1 0 2-.9 2-2V5c0-1.1-.9-2-2-2zM9 17H7v-7h2v7zm4 0h-2V7h2v10zm4 0h-2v-4h2v4z\"/>\n",
              "    </g>\n",
              "</svg>\n",
              "      </button>\n",
              "\n",
              "<style>\n",
              "  .colab-df-quickchart {\n",
              "      --bg-color: #E8F0FE;\n",
              "      --fill-color: #1967D2;\n",
              "      --hover-bg-color: #E2EBFA;\n",
              "      --hover-fill-color: #174EA6;\n",
              "      --disabled-fill-color: #AAA;\n",
              "      --disabled-bg-color: #DDD;\n",
              "  }\n",
              "\n",
              "  [theme=dark] .colab-df-quickchart {\n",
              "      --bg-color: #3B4455;\n",
              "      --fill-color: #D2E3FC;\n",
              "      --hover-bg-color: #434B5C;\n",
              "      --hover-fill-color: #FFFFFF;\n",
              "      --disabled-bg-color: #3B4455;\n",
              "      --disabled-fill-color: #666;\n",
              "  }\n",
              "\n",
              "  .colab-df-quickchart {\n",
              "    background-color: var(--bg-color);\n",
              "    border: none;\n",
              "    border-radius: 50%;\n",
              "    cursor: pointer;\n",
              "    display: none;\n",
              "    fill: var(--fill-color);\n",
              "    height: 32px;\n",
              "    padding: 0;\n",
              "    width: 32px;\n",
              "  }\n",
              "\n",
              "  .colab-df-quickchart:hover {\n",
              "    background-color: var(--hover-bg-color);\n",
              "    box-shadow: 0 1px 2px rgba(60, 64, 67, 0.3), 0 1px 3px 1px rgba(60, 64, 67, 0.15);\n",
              "    fill: var(--button-hover-fill-color);\n",
              "  }\n",
              "\n",
              "  .colab-df-quickchart-complete:disabled,\n",
              "  .colab-df-quickchart-complete:disabled:hover {\n",
              "    background-color: var(--disabled-bg-color);\n",
              "    fill: var(--disabled-fill-color);\n",
              "    box-shadow: none;\n",
              "  }\n",
              "\n",
              "  .colab-df-spinner {\n",
              "    border: 2px solid var(--fill-color);\n",
              "    border-color: transparent;\n",
              "    border-bottom-color: var(--fill-color);\n",
              "    animation:\n",
              "      spin 1s steps(1) infinite;\n",
              "  }\n",
              "\n",
              "  @keyframes spin {\n",
              "    0% {\n",
              "      border-color: transparent;\n",
              "      border-bottom-color: var(--fill-color);\n",
              "      border-left-color: var(--fill-color);\n",
              "    }\n",
              "    20% {\n",
              "      border-color: transparent;\n",
              "      border-left-color: var(--fill-color);\n",
              "      border-top-color: var(--fill-color);\n",
              "    }\n",
              "    30% {\n",
              "      border-color: transparent;\n",
              "      border-left-color: var(--fill-color);\n",
              "      border-top-color: var(--fill-color);\n",
              "      border-right-color: var(--fill-color);\n",
              "    }\n",
              "    40% {\n",
              "      border-color: transparent;\n",
              "      border-right-color: var(--fill-color);\n",
              "      border-top-color: var(--fill-color);\n",
              "    }\n",
              "    60% {\n",
              "      border-color: transparent;\n",
              "      border-right-color: var(--fill-color);\n",
              "    }\n",
              "    80% {\n",
              "      border-color: transparent;\n",
              "      border-right-color: var(--fill-color);\n",
              "      border-bottom-color: var(--fill-color);\n",
              "    }\n",
              "    90% {\n",
              "      border-color: transparent;\n",
              "      border-bottom-color: var(--fill-color);\n",
              "    }\n",
              "  }\n",
              "</style>\n",
              "\n",
              "      <script>\n",
              "        async function quickchart(key) {\n",
              "          const quickchartButtonEl =\n",
              "            document.querySelector('#' + key + ' button');\n",
              "          quickchartButtonEl.disabled = true;  // To prevent multiple clicks.\n",
              "          quickchartButtonEl.classList.add('colab-df-spinner');\n",
              "          try {\n",
              "            const charts = await google.colab.kernel.invokeFunction(\n",
              "                'suggestCharts', [key], {});\n",
              "          } catch (error) {\n",
              "            console.error('Error during call to suggestCharts:', error);\n",
              "          }\n",
              "          quickchartButtonEl.classList.remove('colab-df-spinner');\n",
              "          quickchartButtonEl.classList.add('colab-df-quickchart-complete');\n",
              "        }\n",
              "        (() => {\n",
              "          let quickchartButtonEl =\n",
              "            document.querySelector('#df-d0182f94-2353-44b2-91dd-6c64f8babbed button');\n",
              "          quickchartButtonEl.style.display =\n",
              "            google.colab.kernel.accessAllowed ? 'block' : 'none';\n",
              "        })();\n",
              "      </script>\n",
              "    </div>\n",
              "\n",
              "    </div>\n",
              "  </div>\n"
            ],
            "application/vnd.google.colaboratory.intrinsic+json": {
              "type": "dataframe",
              "variable_name": "df"
            }
          },
          "metadata": {},
          "execution_count": 80
        }
      ]
    },
    {
      "cell_type": "markdown",
      "source": [
        "### Clean the data"
      ],
      "metadata": {
        "id": "z3Usu5CPCYoh"
      }
    },
    {
      "cell_type": "markdown",
      "source": [
        "clean out columns with too many null values"
      ],
      "metadata": {
        "id": "4VDGgH05VIYc"
      }
    },
    {
      "cell_type": "code",
      "source": [
        "# threshold = more than 50% are NaNs\n",
        "threshold = 0.5\n",
        "\n",
        "missing_ratio = df.isnull().mean() # ratios of missing val\n",
        "\n",
        "columns_to_keep = missing_ratio[missing_ratio <= threshold].index\n",
        "\n",
        "df_cleaned = df[columns_to_keep]\n",
        "\n",
        "print(f\"Remaining columns: {len(df_cleaned.columns)}\")"
      ],
      "metadata": {
        "id": "8Uu-FwWYVBih",
        "colab": {
          "base_uri": "https://localhost:8080/"
        },
        "outputId": "7b586382-06e5-43e3-ea02-0b3cc73bc3e5"
      },
      "execution_count": null,
      "outputs": [
        {
          "output_type": "stream",
          "name": "stdout",
          "text": [
            "Remaining columns: 107\n"
          ]
        }
      ]
    },
    {
      "cell_type": "markdown",
      "source": [
        "drop col with non numeric values"
      ],
      "metadata": {
        "id": "8HmTj6RUW7HG"
      }
    },
    {
      "cell_type": "code",
      "source": [
        "df_cleaned = df_cleaned.loc[:, df_cleaned.apply(pd.api.types.is_numeric_dtype)]\n",
        "print(df_cleaned.dtypes)\n",
        "print(f\"Remaining numeric columns: {df_cleaned.shape[1]}\")"
      ],
      "metadata": {
        "colab": {
          "base_uri": "https://localhost:8080/"
        },
        "id": "Yo9wuhvLYfLE",
        "outputId": "f4af71e2-6b33-4118-900b-47f9d732d5e4"
      },
      "execution_count": null,
      "outputs": [
        {
          "output_type": "stream",
          "name": "stdout",
          "text": [
            "SEQN        float64\n",
            "SDDSRVYR    float64\n",
            "RIDSTATR    float64\n",
            "RIAGENDR    float64\n",
            "RIDAGEYR    float64\n",
            "             ...   \n",
            "BPXOSY3     float64\n",
            "BPXODI3     float64\n",
            "BPXOPLS1    float64\n",
            "BPXOPLS2    float64\n",
            "BPXOPLS3    float64\n",
            "Length: 104, dtype: object\n",
            "Remaining numeric columns: 104\n"
          ]
        }
      ]
    },
    {
      "cell_type": "markdown",
      "source": [
        "drop duplicate and highly correlated col"
      ],
      "metadata": {
        "id": "JmDLdE-aYqXO"
      }
    },
    {
      "cell_type": "code",
      "source": [
        "# Convert all numeric columns to float for uniformity\n",
        "df_temp = df_cleaned.astype(float)\n",
        "\n",
        "# Drop columns with duplicate values (there's none here but just in case.)\n",
        "df_cleaned = df_cleaned.loc[:, ~df_temp.T.duplicated()]\n",
        "\n",
        "print(f\"Columns after dropping duplicates: {df_cleaned.shape[1]}\")\n",
        "\n",
        "corr_matrix = df_cleaned.corr().abs()\n",
        "upper = corr_matrix.where(np.triu(np.ones(corr_matrix.shape), k=1).astype(bool))\n",
        "to_drop = [column for column in upper.columns if any(upper[column] > 0.9)] # > 90% similar\n",
        "\n",
        "df_cleaned.drop(columns=to_drop, inplace=True)\n",
        "\n",
        "print(f\"Columns after dropping high corr col: {df_cleaned.shape[1]}\")\n"
      ],
      "metadata": {
        "colab": {
          "base_uri": "https://localhost:8080/"
        },
        "id": "TtEsZVL6Y5DW",
        "outputId": "5c4faac5-e5c5-4466-fe78-5cd5d2d2558f"
      },
      "execution_count": null,
      "outputs": [
        {
          "output_type": "stream",
          "name": "stdout",
          "text": [
            "Columns after dropping duplicates: 104\n",
            "Columns after dropping high corr col: 88\n"
          ]
        }
      ]
    },
    {
      "cell_type": "code",
      "source": [
        "# Your column list\n",
        "columns = df_cleaned.columns.tolist()\n",
        "\n",
        "# Create a DataFrame with blank descriptions\n",
        "df_dict = pd.DataFrame({'Variable': columns, 'Description': [''] * len(columns)})\n",
        "\n",
        "# Save as CSV\n",
        "df_dict.to_csv(\"nhanes_variable_descriptions.csv\", index=False)\n"
      ],
      "metadata": {
        "colab": {
          "base_uri": "https://localhost:8080/"
        },
        "id": "1N013PmvdPki",
        "outputId": "b9034d5f-a4de-4be8-a1ff-6de406f226b7"
      },
      "execution_count": null,
      "outputs": [
        {
          "output_type": "stream",
          "name": "stdout",
          "text": [
            "['SEQN', 'SDDSRVYR', 'RIDSTATR', 'RIAGENDR', 'RIDAGEYR', 'RIDRETH1', 'RIDEXMON', 'DMQMILIZ', 'DMDBORN4', 'DMDEDUC2', 'DMDMARTZ', 'DMDHHSIZ', 'WTINT2YR', 'WTMEC2YR', 'SDMVSTRA', 'SDMVPSU', 'INDFMPIR', 'MCQ010', 'AGQ030', 'MCQ053', 'MCQ160A', 'MCQ160B', 'MCQ160C', 'MCQ160D', 'MCQ160E', 'MCQ160F', 'MCQ160M', 'MCQ160P', 'MCQ160L', 'MCQ550', 'MCQ560', 'MCQ220', 'DIQ010', 'DIQ160', 'DIQ180', 'BPQ020', 'BPQ080', 'BPQ101D', 'RXQ033', 'RXQ050', 'WTPH2YR_x', 'LBXWBCSI', 'LBXLYPCT', 'LBXMOPCT', 'LBXEOPCT', 'LBXBAPCT', 'LBDLYMNO', 'LBDMONO', 'LBDNENO', 'LBDEONO', 'LBDBANO', 'LBXRBCSI', 'LBXHGB', 'LBXMCVSI', 'LBXMC', 'LBXRDW', 'LBXPLTSI', 'LBXMPSI', 'LBXNRBC', 'BMDSTATS', 'BMXWT', 'BMXHT', 'BMXLEG', 'IMQ011', 'PAD790Q', 'PAD800', 'PAD810Q', 'PAD680', 'SMQ020', 'SMAQUEX2', 'DBQ930', 'DBQ935', 'DBQ940', 'DBQ945', 'HIQ011', 'HIQ210', 'HOD051', 'INDFMMPI', 'INDFMMPC', 'INQ300', 'PUQ100', 'PUQ110', 'OCD150', 'LBXGH', 'BPAOCSZ', 'BPXOSY1', 'BPXODI1', 'BPXOPLS1']\n"
          ]
        }
      ]
    },
    {
      "cell_type": "markdown",
      "source": [
        "Make dictionary of col code names to actual names"
      ],
      "metadata": {
        "id": "sfmzKP6yeJIx"
      }
    },
    {
      "cell_type": "code",
      "source": [],
      "metadata": {
        "id": "MFXKxH2Mdd7A"
      },
      "execution_count": null,
      "outputs": []
    },
    {
      "cell_type": "markdown",
      "source": [
        "### Separate the data"
      ],
      "metadata": {
        "id": "ffjvPq-9CgIH"
      }
    },
    {
      "cell_type": "markdown",
      "source": [
        "We want to split the data into x and y. X will be what we use to make a prediction on the variable y"
      ],
      "metadata": {
        "id": "nx1BrueWC9y8"
      }
    },
    {
      "cell_type": "markdown",
      "source": [
        "### Split the data"
      ],
      "metadata": {
        "id": "wVdStn-zCnQ5"
      }
    },
    {
      "cell_type": "markdown",
      "source": [
        "## Building the Model"
      ],
      "metadata": {
        "id": "J6OuQonfBn9A"
      }
    },
    {
      "cell_type": "markdown",
      "source": [
        "## Data Visualization and Evaluation"
      ],
      "metadata": {
        "id": "KdfLAY2vCRII"
      }
    },
    {
      "cell_type": "code",
      "source": [],
      "metadata": {
        "id": "hSxPDEQFBmNv"
      },
      "execution_count": null,
      "outputs": []
    }
  ]
}