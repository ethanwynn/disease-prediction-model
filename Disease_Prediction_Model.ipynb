{
  "cells": [
    {
      "cell_type": "markdown",
      "metadata": {
        "id": "ikah7bgPAtr7"
      },
      "source": [
        "# CS 439 Final Project - Disease Prediction ML Model\n"
      ]
    },
    {
      "cell_type": "code",
      "execution_count": 1,
      "metadata": {
        "colab": {
          "base_uri": "https://localhost:8080/"
        },
        "id": "QQG1w01JGWed",
        "outputId": "9f502508-09e8-4157-a7d9-ab6df7c14633"
      },
      "outputs": [
        {
          "name": "stdout",
          "output_type": "stream",
          "text": [
            "Defaulting to user installation because normal site-packages is not writeable\n",
            "Requirement already satisfied: pandas in c:\\users\\paral\\appdata\\local\\packages\\pythonsoftwarefoundation.python.3.12_qbz5n2kfra8p0\\localcache\\local-packages\\python312\\site-packages (2.2.3)\n",
            "Requirement already satisfied: requests in c:\\users\\paral\\appdata\\local\\packages\\pythonsoftwarefoundation.python.3.12_qbz5n2kfra8p0\\localcache\\local-packages\\python312\\site-packages (2.32.3)\n",
            "Collecting pyreadstat\n",
            "  Downloading pyreadstat-1.2.8-cp312-cp312-win_amd64.whl.metadata (1.1 kB)\n",
            "Requirement already satisfied: numpy>=1.26.0 in c:\\users\\paral\\appdata\\local\\packages\\pythonsoftwarefoundation.python.3.12_qbz5n2kfra8p0\\localcache\\local-packages\\python312\\site-packages (from pandas) (2.2.2)\n",
            "Requirement already satisfied: python-dateutil>=2.8.2 in c:\\users\\paral\\appdata\\local\\packages\\pythonsoftwarefoundation.python.3.12_qbz5n2kfra8p0\\localcache\\local-packages\\python312\\site-packages (from pandas) (2.9.0.post0)\n",
            "Requirement already satisfied: pytz>=2020.1 in c:\\users\\paral\\appdata\\local\\packages\\pythonsoftwarefoundation.python.3.12_qbz5n2kfra8p0\\localcache\\local-packages\\python312\\site-packages (from pandas) (2024.2)\n",
            "Requirement already satisfied: tzdata>=2022.7 in c:\\users\\paral\\appdata\\local\\packages\\pythonsoftwarefoundation.python.3.12_qbz5n2kfra8p0\\localcache\\local-packages\\python312\\site-packages (from pandas) (2024.2)\n",
            "Requirement already satisfied: charset-normalizer<4,>=2 in c:\\users\\paral\\appdata\\local\\packages\\pythonsoftwarefoundation.python.3.12_qbz5n2kfra8p0\\localcache\\local-packages\\python312\\site-packages (from requests) (3.4.0)\n",
            "Requirement already satisfied: idna<4,>=2.5 in c:\\users\\paral\\appdata\\local\\packages\\pythonsoftwarefoundation.python.3.12_qbz5n2kfra8p0\\localcache\\local-packages\\python312\\site-packages (from requests) (3.10)\n",
            "Requirement already satisfied: urllib3<3,>=1.21.1 in c:\\users\\paral\\appdata\\local\\packages\\pythonsoftwarefoundation.python.3.12_qbz5n2kfra8p0\\localcache\\local-packages\\python312\\site-packages (from requests) (2.2.3)\n",
            "Requirement already satisfied: certifi>=2017.4.17 in c:\\users\\paral\\appdata\\local\\packages\\pythonsoftwarefoundation.python.3.12_qbz5n2kfra8p0\\localcache\\local-packages\\python312\\site-packages (from requests) (2024.8.30)\n",
            "Requirement already satisfied: six>=1.5 in c:\\users\\paral\\appdata\\local\\packages\\pythonsoftwarefoundation.python.3.12_qbz5n2kfra8p0\\localcache\\local-packages\\python312\\site-packages (from python-dateutil>=2.8.2->pandas) (1.16.0)\n",
            "Downloading pyreadstat-1.2.8-cp312-cp312-win_amd64.whl (2.4 MB)\n",
            "   ---------------------------------------- 0.0/2.4 MB ? eta -:--:--\n",
            "   -------------------------- ------------- 1.6/2.4 MB 8.4 MB/s eta 0:00:01\n",
            "   ---------------------------------------- 2.4/2.4 MB 8.6 MB/s eta 0:00:00\n",
            "Installing collected packages: pyreadstat\n",
            "Successfully installed pyreadstat-1.2.8\n"
          ]
        },
        {
          "name": "stderr",
          "output_type": "stream",
          "text": [
            "\n",
            "[notice] A new release of pip is available: 25.0.1 -> 25.1.1\n",
            "[notice] To update, run: C:\\Users\\paral\\AppData\\Local\\Microsoft\\WindowsApps\\PythonSoftwareFoundation.Python.3.12_qbz5n2kfra8p0\\python.exe -m pip install --upgrade pip\n"
          ]
        }
      ],
      "source": [
        "!pip install pandas requests pyreadstat"
      ]
    },
    {
      "cell_type": "code",
      "execution_count": 2,
      "metadata": {
        "id": "K4TCshKnEiOb"
      },
      "outputs": [],
      "source": [
        "import numpy as np\n",
        "import pandas as pd\n",
        "import pyreadstat\n",
        "import requests"
      ]
    },
    {
      "cell_type": "markdown",
      "metadata": {
        "id": "HavmzvBeBiMz"
      },
      "source": [
        "## Data Processing"
      ]
    },
    {
      "cell_type": "markdown",
      "metadata": {
        "id": "RkJULTY-CV7C"
      },
      "source": [
        "### Fetching the data"
      ]
    },
    {
      "cell_type": "markdown",
      "metadata": {
        "id": "ZmXPmzCqEas-"
      },
      "source": [
        "We are using data from NHANES (National Health and Nutrition Examination Survey). We are going to gather data that enacapsulates a wider range than traditional models, specifically data that isn't necessarily medical related."
      ]
    },
    {
      "cell_type": "markdown",
      "metadata": {
        "id": "GfvIfTUoR013"
      },
      "source": [
        "links can be found at [https://wwwn.cdc.gov/nchs/nhanes/continuousnhanes/default.aspx?Cycle=2021-2023](https://)"
      ]
    },
    {
      "cell_type": "code",
      "execution_count": 3,
      "metadata": {
        "colab": {
          "base_uri": "https://localhost:8080/"
        },
        "id": "LxEcpNF5EgTI",
        "outputId": "f1e11174-c35f-439e-c7aa-f60f3c029cd8"
      },
      "outputs": [
        {
          "name": "stdout",
          "output_type": "stream",
          "text": [
            "loaded Demographics\n",
            "loaded Medical Conditions\n",
            "loaded Diabetes\n",
            "loaded Hypertension\n",
            "loaded Prescription Meds\n",
            "loaded Plasma glucose\n",
            "loaded CBC\n",
            "loaded Body Measures\n",
            "loaded Immunization\n",
            "loaded Physical Activity\n",
            "loaded Alchohol Use\n",
            "loaded Smoking\n",
            "loaded Diet\n",
            "loaded Health Insurance\n",
            "loaded Housing\n",
            "loaded Income and Food Security\n",
            "loaded Pesticide Use\n",
            "loaded Occupational\n",
            "loaded Glycohemoglobin\n",
            "loaded Oscillometric BP\n"
          ]
        }
      ],
      "source": [
        "from typing import ByteString\n",
        "from io import BytesIO\n",
        "\n",
        "def load_xpt(url):\n",
        "  response = requests.get(url)\n",
        "  if response.status_code != 200:\n",
        "    raise Exception(f'failed to download {url}')\n",
        "  return pd.read_sas(BytesIO(response.content), format='xport')\n",
        "\n",
        "#base_url = 'https://wwwn.cdc.gov/Nchs/Nhanes/2021-2022/'\n",
        "base_url = 'https://wwwn.cdc.gov/Nchs/Data/Nhanes/Public/2021/DataFiles/'\n",
        "\n",
        "urls = {\n",
        "    'Demographics': base_url + 'DEMO_L.XPT',\n",
        "    'Medical Conditions': base_url + 'MCQ_L.XPT',\n",
        "    'Diabetes': base_url + 'DIQ_L.XPT',\n",
        "    'Hypertension': base_url + 'BPQ_L.XPT',\n",
        "    'Prescription Meds': base_url + 'RXQ_RX_L.XPT',\n",
        "    'Plasma glucose': base_url + 'GLU_L.XPT',\n",
        "    'CBC': base_url + 'CBC_L.XPT',\n",
        "    'Body Measures': base_url + 'BMX_L.XPT',\n",
        "    'Immunization': base_url + 'IMQ_L.XPT',\n",
        "    'Physical Activity': base_url + 'PAQ_L.XPT',\n",
        "    'Alchohol Use': base_url + 'ALQ_L.XPT',\n",
        "    'Smoking': base_url + 'SMQ_L.XPT',\n",
        "    'Diet': base_url + 'DBQ_L.XPT',\n",
        "    'Health Insurance': base_url + 'HIQ_L.XPT',\n",
        "    'Housing': base_url + 'HOQ_L.XPT',\n",
        "    'Income and Food Security': base_url + 'INQ_L.XPT',\n",
        "    'Pesticide Use': base_url + 'PUQMEC_L.XPT',\n",
        "    'Occupational': base_url + 'OCQ_L.XPT',\n",
        "    'Glycohemoglobin': base_url + 'GHB_L.XPT',\n",
        "    'Oscillometric BP': base_url + 'BPXO_L.XPT'\n",
        "}\n",
        "\n",
        "data = {}\n",
        "for name, url in urls.items():\n",
        "  try:\n",
        "    data[name] = load_xpt(url)\n",
        "    print(f'loaded {name}')\n",
        "  except Exception as e:\n",
        "    print(f'Failed to load {name} : {e}')\n",
        "\n",
        "df = data['Demographics'] #starting with demographics\n",
        "for key in data:\n",
        "  if key != 'Demographics':\n",
        "    df = df.merge(data[key], on='SEQN', how='left')\n",
        "\n"
      ]
    },
    {
      "cell_type": "markdown",
      "metadata": {
        "id": "jk9kQceORhOs"
      },
      "source": [
        "### Explore the Data"
      ]
    },
    {
      "cell_type": "code",
      "execution_count": 5,
      "metadata": {
        "id": "0yH0gjiQemYe"
      },
      "outputs": [],
      "source": [
        "#saving the original data to a file\n",
        "#from google.colab import files\n",
        "#df.to_csv('df.csv', index=False)\n",
        "# files.download('df.csv')"
      ]
    },
    {
      "cell_type": "code",
      "execution_count": 6,
      "metadata": {
        "colab": {
          "base_uri": "https://localhost:8080/",
          "height": 298
        },
        "id": "WxPTtrQZc--x",
        "outputId": "b4d93243-7e16-4ab3-e760-1e7b7cfcffd8"
      },
      "outputs": [
        {
          "name": "stdout",
          "output_type": "stream",
          "text": [
            "211\n",
            "{'BMXARMC', 'LBXPLTSI', 'BMXLEG', 'DID040', 'LBXNRBC', 'HIQ210', 'DBQ400', 'LBXMCVSI', 'MCQ010', 'ALQ130', 'RIDSTATR', 'MCQ510B', 'ALQ121', 'DMDHRAGZ', 'DBQ073U', 'DMDMARTZ', 'MCQ160M', 'BMIWT', 'BPAOCSZ', 'SMD650', 'PAD790Q', 'BMDBMIC', 'IMQ100', 'IND310', 'BPXOPLS1', 'LBXMCHSI', 'OCQ383', 'MCQ170M', 'ALQ142', 'MCQ510D', 'MCQ160P', 'DBD061', 'RIDRETH3', 'MCQ560', 'BPAOARM', 'DID060', 'DIQ050', 'DBD411', 'OSQ230', 'DBD381', 'MCQ149', 'INDFMPIR', 'SEQN', 'DBQ073A', 'MCQ500', 'PUQ100', 'BPXOPLS3', 'PAD680', 'BPQ030', 'LBXHCT', 'DBD030', 'DBQ935', 'LBXMPSI', 'OCQ210', 'SMQ020', 'WTMEC2YR', 'SMQ621', 'OCQ180', 'BPXODI1', 'LBXBAPCT', 'DMDEDUC2', 'DBQ930', 'BMIARML', 'DIQ070', 'MCQ160D', 'DMQMILIZ', 'LBDGLUSI', 'LBXMOPCT', 'LBXHGB', 'BPQ101D', 'DBQ360', 'AGQ030', 'HOD051', 'PAD790U', 'LBDLYMNO', 'WTINT2YR', 'PAD820', 'BMIARMC', 'DBD050', 'MCQ550', 'MCQ510E', 'DBQ390', 'HIQ032A', 'BPQ020', 'RXQ033', 'BMIHT', 'MCQ035', 'MCQ170L', 'MCQ160F', 'OCD150', 'BPXOSY1', 'PAD810Q', 'IMQ070', 'BPQ080', 'DBQ940', 'BMXHEAD', 'DBQ010', 'LBDBANO', 'ALQ111', 'RIDEXAGM', 'DBQ421', 'DMDHHSIZ', 'PAD810U', 'DBQ073B', 'LBXGH', 'HIQ032H', 'MCQ230D', 'LBDMONO', 'DBQ370', 'DIQ010', 'PUQ110', 'BMIRECUM', 'BMXBMI', 'DMDHRMAZ', 'MCQ050', 'DBQ073C', 'SDDSRVYR', 'MCQ230A', 'RIAGENDR', 'BPXODI3', 'IMQ011', 'OCQ215', 'IMQ090', 'MCQ230B', 'MCQ053', 'HIQ011', 'MCQ230C', 'DIQ180', 'MCQ220', 'LBXWBCSI', 'BMIHIP', 'IMQ060', 'MCQ160B', 'DMDBORN4', 'MCQ510C', 'DBQ073E', 'BMDSTATS', 'SMD630', 'HIQ032F', 'INDFMMPC', 'SDMVPSU', 'LBXNEPCT', 'DMDYRUSR', 'INDFMMPI', 'BMXWT', 'PAD800', 'LBDNENO', 'LBXMC', 'LBXGLU', 'SMQ040', 'DBQ945', 'BPXOPLS2', 'DBQ301', 'HIQ032D', 'RIDAGEYR', 'RIDEXPRG', 'MCQ160E', 'DMDHREDZ', 'LBXEOPCT', 'BMXHT', 'HIQ032C', 'RIDAGEMN', 'RIDEXMON', 'BPXOSY2', 'BMXHIP', 'DMDHRGND', 'BMIHEAD', 'DIQ160', 'MCQ160C', 'BMXARML', 'ALQ151', 'INQ300', 'HIQ032I', 'WTPH2YR_x', 'DBQ330', 'BPXODI2', 'MCQ510F', 'SMD641', 'RIDRETH1', 'HIQ032E', 'HIQ032B', 'DMDHSEDZ', 'LBXRDW', 'MCQ160L', 'DBD055', 'DBQ073D', 'BPXOSY3', 'MCQ195', 'RXQ050', 'DBQ424', 'LBXRBCSI', 'BMXWAIST', 'LBDEONO', 'MCQ160A', 'BPQ150', 'LBXLYPCT', 'BMXRECUM', 'ALQ270', 'ALQ280', 'ALQ170', 'BMILEG', 'WTPH2YR_y', 'WTSAF2YR', 'DBD041', 'SMAQUEX2', 'SMD100MN', 'MCQ040', 'DIQ060U', 'MCQ510A', 'SDMVSTRA', 'BMIWAIST'}\n",
            "Final merged shape: (11933, 211)\n"
          ]
        },
        {
          "data": {
            "text/html": [
              "<div>\n",
              "<style scoped>\n",
              "    .dataframe tbody tr th:only-of-type {\n",
              "        vertical-align: middle;\n",
              "    }\n",
              "\n",
              "    .dataframe tbody tr th {\n",
              "        vertical-align: top;\n",
              "    }\n",
              "\n",
              "    .dataframe thead th {\n",
              "        text-align: right;\n",
              "    }\n",
              "</style>\n",
              "<table border=\"1\" class=\"dataframe\">\n",
              "  <thead>\n",
              "    <tr style=\"text-align: right;\">\n",
              "      <th></th>\n",
              "      <th>SEQN</th>\n",
              "      <th>SDDSRVYR</th>\n",
              "      <th>RIDSTATR</th>\n",
              "      <th>RIAGENDR</th>\n",
              "      <th>RIDAGEYR</th>\n",
              "      <th>RIDAGEMN</th>\n",
              "      <th>RIDRETH1</th>\n",
              "      <th>RIDRETH3</th>\n",
              "      <th>RIDEXMON</th>\n",
              "      <th>RIDEXAGM</th>\n",
              "      <th>...</th>\n",
              "      <th>BPAOCSZ</th>\n",
              "      <th>BPXOSY1</th>\n",
              "      <th>BPXODI1</th>\n",
              "      <th>BPXOSY2</th>\n",
              "      <th>BPXODI2</th>\n",
              "      <th>BPXOSY3</th>\n",
              "      <th>BPXODI3</th>\n",
              "      <th>BPXOPLS1</th>\n",
              "      <th>BPXOPLS2</th>\n",
              "      <th>BPXOPLS3</th>\n",
              "    </tr>\n",
              "  </thead>\n",
              "  <tbody>\n",
              "    <tr>\n",
              "      <th>0</th>\n",
              "      <td>130378.0</td>\n",
              "      <td>12.0</td>\n",
              "      <td>2.0</td>\n",
              "      <td>1.0</td>\n",
              "      <td>43.0</td>\n",
              "      <td>NaN</td>\n",
              "      <td>5.0</td>\n",
              "      <td>6.0</td>\n",
              "      <td>2.0</td>\n",
              "      <td>NaN</td>\n",
              "      <td>...</td>\n",
              "      <td>4.0</td>\n",
              "      <td>135.0</td>\n",
              "      <td>98.0</td>\n",
              "      <td>131.0</td>\n",
              "      <td>96.0</td>\n",
              "      <td>132.0</td>\n",
              "      <td>94.0</td>\n",
              "      <td>82.0</td>\n",
              "      <td>79.0</td>\n",
              "      <td>82.0</td>\n",
              "    </tr>\n",
              "    <tr>\n",
              "      <th>1</th>\n",
              "      <td>130379.0</td>\n",
              "      <td>12.0</td>\n",
              "      <td>2.0</td>\n",
              "      <td>1.0</td>\n",
              "      <td>66.0</td>\n",
              "      <td>NaN</td>\n",
              "      <td>3.0</td>\n",
              "      <td>3.0</td>\n",
              "      <td>2.0</td>\n",
              "      <td>NaN</td>\n",
              "      <td>...</td>\n",
              "      <td>4.0</td>\n",
              "      <td>121.0</td>\n",
              "      <td>84.0</td>\n",
              "      <td>117.0</td>\n",
              "      <td>76.0</td>\n",
              "      <td>113.0</td>\n",
              "      <td>76.0</td>\n",
              "      <td>72.0</td>\n",
              "      <td>71.0</td>\n",
              "      <td>73.0</td>\n",
              "    </tr>\n",
              "    <tr>\n",
              "      <th>2</th>\n",
              "      <td>130380.0</td>\n",
              "      <td>12.0</td>\n",
              "      <td>2.0</td>\n",
              "      <td>2.0</td>\n",
              "      <td>44.0</td>\n",
              "      <td>NaN</td>\n",
              "      <td>2.0</td>\n",
              "      <td>2.0</td>\n",
              "      <td>1.0</td>\n",
              "      <td>NaN</td>\n",
              "      <td>...</td>\n",
              "      <td>4.0</td>\n",
              "      <td>111.0</td>\n",
              "      <td>79.0</td>\n",
              "      <td>112.0</td>\n",
              "      <td>80.0</td>\n",
              "      <td>104.0</td>\n",
              "      <td>76.0</td>\n",
              "      <td>84.0</td>\n",
              "      <td>83.0</td>\n",
              "      <td>77.0</td>\n",
              "    </tr>\n",
              "    <tr>\n",
              "      <th>3</th>\n",
              "      <td>130381.0</td>\n",
              "      <td>12.0</td>\n",
              "      <td>2.0</td>\n",
              "      <td>2.0</td>\n",
              "      <td>5.0</td>\n",
              "      <td>NaN</td>\n",
              "      <td>5.0</td>\n",
              "      <td>7.0</td>\n",
              "      <td>1.0</td>\n",
              "      <td>71.0</td>\n",
              "      <td>...</td>\n",
              "      <td>NaN</td>\n",
              "      <td>NaN</td>\n",
              "      <td>NaN</td>\n",
              "      <td>NaN</td>\n",
              "      <td>NaN</td>\n",
              "      <td>NaN</td>\n",
              "      <td>NaN</td>\n",
              "      <td>NaN</td>\n",
              "      <td>NaN</td>\n",
              "      <td>NaN</td>\n",
              "    </tr>\n",
              "    <tr>\n",
              "      <th>4</th>\n",
              "      <td>130382.0</td>\n",
              "      <td>12.0</td>\n",
              "      <td>2.0</td>\n",
              "      <td>1.0</td>\n",
              "      <td>2.0</td>\n",
              "      <td>NaN</td>\n",
              "      <td>3.0</td>\n",
              "      <td>3.0</td>\n",
              "      <td>2.0</td>\n",
              "      <td>34.0</td>\n",
              "      <td>...</td>\n",
              "      <td>NaN</td>\n",
              "      <td>NaN</td>\n",
              "      <td>NaN</td>\n",
              "      <td>NaN</td>\n",
              "      <td>NaN</td>\n",
              "      <td>NaN</td>\n",
              "      <td>NaN</td>\n",
              "      <td>NaN</td>\n",
              "      <td>NaN</td>\n",
              "      <td>NaN</td>\n",
              "    </tr>\n",
              "  </tbody>\n",
              "</table>\n",
              "<p>5 rows × 211 columns</p>\n",
              "</div>"
            ],
            "text/plain": [
              "       SEQN  SDDSRVYR  RIDSTATR  RIAGENDR  RIDAGEYR  RIDAGEMN  RIDRETH1  \\\n",
              "0  130378.0      12.0       2.0       1.0      43.0       NaN       5.0   \n",
              "1  130379.0      12.0       2.0       1.0      66.0       NaN       3.0   \n",
              "2  130380.0      12.0       2.0       2.0      44.0       NaN       2.0   \n",
              "3  130381.0      12.0       2.0       2.0       5.0       NaN       5.0   \n",
              "4  130382.0      12.0       2.0       1.0       2.0       NaN       3.0   \n",
              "\n",
              "   RIDRETH3  RIDEXMON  RIDEXAGM  ...  BPAOCSZ  BPXOSY1  BPXODI1  BPXOSY2  \\\n",
              "0       6.0       2.0       NaN  ...      4.0    135.0     98.0    131.0   \n",
              "1       3.0       2.0       NaN  ...      4.0    121.0     84.0    117.0   \n",
              "2       2.0       1.0       NaN  ...      4.0    111.0     79.0    112.0   \n",
              "3       7.0       1.0      71.0  ...      NaN      NaN      NaN      NaN   \n",
              "4       3.0       2.0      34.0  ...      NaN      NaN      NaN      NaN   \n",
              "\n",
              "   BPXODI2  BPXOSY3  BPXODI3  BPXOPLS1  BPXOPLS2  BPXOPLS3  \n",
              "0     96.0    132.0     94.0      82.0      79.0      82.0  \n",
              "1     76.0    113.0     76.0      72.0      71.0      73.0  \n",
              "2     80.0    104.0     76.0      84.0      83.0      77.0  \n",
              "3      NaN      NaN      NaN       NaN       NaN       NaN  \n",
              "4      NaN      NaN      NaN       NaN       NaN       NaN  \n",
              "\n",
              "[5 rows x 211 columns]"
            ]
          },
          "execution_count": 6,
          "metadata": {},
          "output_type": "execute_result"
        }
      ],
      "source": [
        "print(len(set(df.columns)))\n",
        "print(set(df.columns))\n",
        "print(f\"Final merged shape: {df.shape}\")\n",
        "df.head()\n"
      ]
    },
    {
      "cell_type": "markdown",
      "metadata": {
        "id": "z3Usu5CPCYoh"
      },
      "source": [
        "### Clean the data"
      ]
    },
    {
      "cell_type": "markdown",
      "metadata": {
        "id": "4VDGgH05VIYc"
      },
      "source": [
        "clean out columns with too many null values"
      ]
    },
    {
      "cell_type": "code",
      "execution_count": 7,
      "metadata": {
        "colab": {
          "base_uri": "https://localhost:8080/"
        },
        "id": "8Uu-FwWYVBih",
        "outputId": "7b586382-06e5-43e3-ea02-0b3cc73bc3e5"
      },
      "outputs": [
        {
          "name": "stdout",
          "output_type": "stream",
          "text": [
            "Remaining columns: 107\n"
          ]
        }
      ],
      "source": [
        "# threshold = more than 50% are NaNs\n",
        "threshold = 0.5\n",
        "\n",
        "missing_ratio = df.isnull().mean() # ratios of missing val\n",
        "\n",
        "columns_to_keep = missing_ratio[missing_ratio <= threshold].index\n",
        "\n",
        "df_cleaned = df[columns_to_keep]\n",
        "\n",
        "print(f\"Remaining columns: {len(df_cleaned.columns)}\")"
      ]
    },
    {
      "cell_type": "markdown",
      "metadata": {
        "id": "8HmTj6RUW7HG"
      },
      "source": [
        "drop col with non numeric values"
      ]
    },
    {
      "cell_type": "code",
      "execution_count": 8,
      "metadata": {
        "colab": {
          "base_uri": "https://localhost:8080/"
        },
        "id": "Yo9wuhvLYfLE",
        "outputId": "f4af71e2-6b33-4118-900b-47f9d732d5e4"
      },
      "outputs": [
        {
          "name": "stdout",
          "output_type": "stream",
          "text": [
            "SEQN        float64\n",
            "SDDSRVYR    float64\n",
            "RIDSTATR    float64\n",
            "RIAGENDR    float64\n",
            "RIDAGEYR    float64\n",
            "             ...   \n",
            "BPXOSY3     float64\n",
            "BPXODI3     float64\n",
            "BPXOPLS1    float64\n",
            "BPXOPLS2    float64\n",
            "BPXOPLS3    float64\n",
            "Length: 104, dtype: object\n",
            "Remaining numeric columns: 104\n"
          ]
        }
      ],
      "source": [
        "df_cleaned = df_cleaned.loc[:, df_cleaned.apply(pd.api.types.is_numeric_dtype)]\n",
        "print(df_cleaned.dtypes)\n",
        "print(f\"Remaining numeric columns: {df_cleaned.shape[1]}\")"
      ]
    },
    {
      "cell_type": "markdown",
      "metadata": {
        "id": "JmDLdE-aYqXO"
      },
      "source": [
        "drop duplicate and highly correlated col"
      ]
    },
    {
      "cell_type": "code",
      "execution_count": 9,
      "metadata": {
        "colab": {
          "base_uri": "https://localhost:8080/"
        },
        "id": "TtEsZVL6Y5DW",
        "outputId": "5c4faac5-e5c5-4466-fe78-5cd5d2d2558f"
      },
      "outputs": [
        {
          "name": "stdout",
          "output_type": "stream",
          "text": [
            "Columns after dropping duplicates: 104\n",
            "Columns after dropping high corr col: 88\n"
          ]
        }
      ],
      "source": [
        "# Convert all numeric columns to float for uniformity\n",
        "df_temp = df_cleaned.astype(float)\n",
        "\n",
        "# Drop columns with duplicate values (there's none here but just in case.)\n",
        "df_cleaned = df_cleaned.loc[:, ~df_temp.T.duplicated()]\n",
        "\n",
        "print(f\"Columns after dropping duplicates: {df_cleaned.shape[1]}\")\n",
        "\n",
        "corr_matrix = df_cleaned.corr().abs()\n",
        "upper = corr_matrix.where(np.triu(np.ones(corr_matrix.shape), k=1).astype(bool))\n",
        "to_drop = [column for column in upper.columns if any(upper[column] > 0.9)] # > 90% similar\n",
        "\n",
        "df_cleaned.drop(columns=to_drop, inplace=True)\n",
        "\n",
        "print(f\"Columns after dropping high corr col: {df_cleaned.shape[1]}\")\n"
      ]
    },
    {
      "cell_type": "code",
      "execution_count": 10,
      "metadata": {
        "colab": {
          "base_uri": "https://localhost:8080/"
        },
        "id": "1N013PmvdPki",
        "outputId": "b9034d5f-a4de-4be8-a1ff-6de406f226b7"
      },
      "outputs": [],
      "source": [
        "# Your column list\n",
        "columns = df_cleaned.columns.tolist()\n",
        "\n",
        "# Create a DataFrame with blank descriptions\n",
        "df_dict = pd.DataFrame({'Variable': columns, 'Description': [''] * len(columns)})\n",
        "\n",
        "# Save as CSV\n",
        "df_dict.to_csv(\"nhanes_variable_descriptions.csv\", index=False)\n"
      ]
    },
    {
      "cell_type": "markdown",
      "metadata": {
        "id": "sfmzKP6yeJIx"
      },
      "source": [
        "Make dictionary of col code names to actual names"
      ]
    },
    {
      "cell_type": "code",
      "execution_count": null,
      "metadata": {
        "id": "MFXKxH2Mdd7A"
      },
      "outputs": [],
      "source": []
    },
    {
      "cell_type": "markdown",
      "metadata": {
        "id": "ffjvPq-9CgIH"
      },
      "source": [
        "### Separate the data"
      ]
    },
    {
      "cell_type": "markdown",
      "metadata": {
        "id": "nx1BrueWC9y8"
      },
      "source": [
        "We want to split the data into x and y. X will be what we use to make a prediction on the variable y"
      ]
    },
    {
      "cell_type": "markdown",
      "metadata": {
        "id": "wVdStn-zCnQ5"
      },
      "source": [
        "### Split the data"
      ]
    },
    {
      "cell_type": "markdown",
      "metadata": {
        "id": "J6OuQonfBn9A"
      },
      "source": [
        "## Building the Model"
      ]
    },
    {
      "cell_type": "markdown",
      "metadata": {
        "id": "KdfLAY2vCRII"
      },
      "source": [
        "## Data Visualization and Evaluation"
      ]
    },
    {
      "cell_type": "code",
      "execution_count": null,
      "metadata": {
        "id": "hSxPDEQFBmNv"
      },
      "outputs": [],
      "source": []
    }
  ],
  "metadata": {
    "colab": {
      "provenance": []
    },
    "kernelspec": {
      "display_name": "Python 3",
      "name": "python3"
    },
    "language_info": {
      "codemirror_mode": {
        "name": "ipython",
        "version": 3
      },
      "file_extension": ".py",
      "mimetype": "text/x-python",
      "name": "python",
      "nbconvert_exporter": "python",
      "pygments_lexer": "ipython3",
      "version": "3.12.10"
    }
  },
  "nbformat": 4,
  "nbformat_minor": 0
}
